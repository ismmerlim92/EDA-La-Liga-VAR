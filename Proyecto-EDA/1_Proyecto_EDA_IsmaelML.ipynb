{
  "cells": [
    {
      "cell_type": "markdown",
      "metadata": {
        "id": "uPlI7d1zAdEq"
      },
      "source": [
        "# INFORMACIÓN DEL PROYECTO"
      ]
    },
    {
      "attachments": {},
      "cell_type": "markdown",
      "metadata": {
        "id": "RJiGsoDLAdEq"
      },
      "source": [
        "![imagen](imagen2.jpg)"
      ]
    },
    {
      "cell_type": "markdown",
      "metadata": {
        "id": "b7xjevSYAdEr"
      },
      "source": [
        "### TÍTULO"
      ]
    },
    {
      "attachments": {},
      "cell_type": "markdown",
      "metadata": {
        "id": "rxlKgZKpAdEs"
      },
      "source": [
        "#### La evolución de la Liga española: un análisis comparativo antes y después del VAR"
      ]
    },
    {
      "cell_type": "markdown",
      "metadata": {
        "id": "T9KxHJexAdEs"
      },
      "source": [
        "### TEMA"
      ]
    },
    {
      "attachments": {},
      "cell_type": "markdown",
      "metadata": {
        "id": "2ubMG_jdAdEt"
      },
      "source": [
        "Este proyecto tiene como objetivo analizar la evolución de la Liga española de fútbol antes y después de la implementación del VAR. A través de un estudio exploratorio de datos, se examinará el impacto de esta tecnología en la dinámica del juego y en los resultados de los equipos, así como en la percepción de la justicia en el fútbol español. "
      ]
    },
    {
      "cell_type": "markdown",
      "metadata": {
        "id": "SjWBpZ0mAdEu"
      },
      "source": [
        "### HIPÓTESIS"
      ]
    },
    {
      "cell_type": "markdown",
      "metadata": {
        "id": "A5L7z0DiAdEu"
      },
      "source": [
        "Define aquí lo que será la hipótesis de tu proyecto.\n",
        "Puede que tengas más de una, pero tu proyecto lo harás teniendo una principal hipótesis."
      ]
    },
    {
      "attachments": {},
      "cell_type": "markdown",
      "metadata": {
        "id": "f6lzp5j3AdEv"
      },
      "source": [
        "Mi principal hipótesis será si con la implementación del VAR en la Liga española ha llevado a un aumento significativo en el número de penaltis otorgados y expulsiones en comparación con el período anterior a su implementación."
      ]
    },
    {
      "cell_type": "markdown",
      "metadata": {
        "id": "RW9Tar54AdEv"
      },
      "source": [
        "## OBTENCIÓN DE LOS DATOS"
      ]
    },
    {
      "cell_type": "markdown",
      "metadata": {
        "id": "oE-3pP2RAdEw"
      },
      "source": [
        "### DATASETS Y FUENTES ALTERNATIVAS DE DATOS"
      ]
    },
    {
      "cell_type": "markdown",
      "metadata": {
        "id": "cmHGUHxbAdEw"
      },
      "source": [
        "Incluye aquí una breve descripción del dataset o datasets de los que partirás para poder evaluar tu hipótesis. <br>\n",
        "También incluye el origen de estos datos y su fuente."
      ]
    },
    {
      "attachments": {},
      "cell_type": "markdown",
      "metadata": {
        "id": "OukceeqpAdEx"
      },
      "source": [
        "https://fbref.com\n",
        "\n",
        "https://www.laliga.com\n",
        "\n",
        "https://es.whoscored.com"
      ]
    },
    {
      "cell_type": "code",
      "execution_count": 1,
      "metadata": {},
      "outputs": [],
      "source": [
        "# IMPORTAMOS TODAS LAS LIBRERIAS\n",
        "\n",
        "import pandas as pd\n",
        "import numpy as np\n",
        "import seaborn as sns\n",
        "import matplotlib.pyplot as plt\n",
        "import plotly.express as px\n",
        "import plotly as py\n",
        "import plotly.graph_objs as go"
      ]
    },
    {
      "cell_type": "code",
      "execution_count": 2,
      "metadata": {
        "id": "VhoVg2N1AdEx",
        "outputId": "2760bc8a-299f-4cbb-e4db-e507c33bef49"
      },
      "outputs": [
        {
          "data": {
            "text/html": [
              "<div>\n",
              "<style scoped>\n",
              "    .dataframe tbody tr th:only-of-type {\n",
              "        vertical-align: middle;\n",
              "    }\n",
              "\n",
              "    .dataframe tbody tr th {\n",
              "        vertical-align: top;\n",
              "    }\n",
              "\n",
              "    .dataframe thead th {\n",
              "        text-align: right;\n",
              "    }\n",
              "</style>\n",
              "<table border=\"1\" class=\"dataframe\">\n",
              "  <thead>\n",
              "    <tr style=\"text-align: right;\">\n",
              "      <th></th>\n",
              "      <th>Equipo</th>\n",
              "      <th>PL</th>\n",
              "      <th>Edad</th>\n",
              "      <th>Pos.</th>\n",
              "      <th>PJ</th>\n",
              "      <th>Titular</th>\n",
              "      <th>MÃ­n</th>\n",
              "      <th>90 s</th>\n",
              "      <th>Gls.</th>\n",
              "      <th>Ass</th>\n",
              "      <th>...</th>\n",
              "      <th>G-TP</th>\n",
              "      <th>TP</th>\n",
              "      <th>TPint</th>\n",
              "      <th>TA</th>\n",
              "      <th>TR</th>\n",
              "      <th>Gls..1</th>\n",
              "      <th>Ast</th>\n",
              "      <th>G+A.1</th>\n",
              "      <th>G-TP.1</th>\n",
              "      <th>G+A-TP</th>\n",
              "    </tr>\n",
              "  </thead>\n",
              "  <tbody>\n",
              "    <tr>\n",
              "      <th>0</th>\n",
              "      <td>Almeri­a</td>\n",
              "      <td>27</td>\n",
              "      <td>26.1</td>\n",
              "      <td>46.4</td>\n",
              "      <td>38</td>\n",
              "      <td>418</td>\n",
              "      <td>3420</td>\n",
              "      <td>38</td>\n",
              "      <td>33</td>\n",
              "      <td>22</td>\n",
              "      <td>...</td>\n",
              "      <td>28</td>\n",
              "      <td>5</td>\n",
              "      <td>6</td>\n",
              "      <td>0</td>\n",
              "      <td>0</td>\n",
              "      <td>0.87</td>\n",
              "      <td>0.58</td>\n",
              "      <td>1.45</td>\n",
              "      <td>0.74</td>\n",
              "      <td>1.32</td>\n",
              "    </tr>\n",
              "    <tr>\n",
              "      <th>1</th>\n",
              "      <td>Athletic Club</td>\n",
              "      <td>26</td>\n",
              "      <td>26.8</td>\n",
              "      <td>53.2</td>\n",
              "      <td>38</td>\n",
              "      <td>418</td>\n",
              "      <td>3420</td>\n",
              "      <td>38</td>\n",
              "      <td>41</td>\n",
              "      <td>26</td>\n",
              "      <td>...</td>\n",
              "      <td>36</td>\n",
              "      <td>5</td>\n",
              "      <td>5</td>\n",
              "      <td>0</td>\n",
              "      <td>0</td>\n",
              "      <td>1.08</td>\n",
              "      <td>0.68</td>\n",
              "      <td>1.76</td>\n",
              "      <td>0.95</td>\n",
              "      <td>1.63</td>\n",
              "    </tr>\n",
              "    <tr>\n",
              "      <th>2</th>\n",
              "      <td>Atletico Madrid</td>\n",
              "      <td>25</td>\n",
              "      <td>27.5</td>\n",
              "      <td>48.6</td>\n",
              "      <td>38</td>\n",
              "      <td>418</td>\n",
              "      <td>3420</td>\n",
              "      <td>38</td>\n",
              "      <td>65</td>\n",
              "      <td>48</td>\n",
              "      <td>...</td>\n",
              "      <td>60</td>\n",
              "      <td>5</td>\n",
              "      <td>6</td>\n",
              "      <td>0</td>\n",
              "      <td>0</td>\n",
              "      <td>1.71</td>\n",
              "      <td>1.26</td>\n",
              "      <td>2.97</td>\n",
              "      <td>1.58</td>\n",
              "      <td>2.84</td>\n",
              "    </tr>\n",
              "    <tr>\n",
              "      <th>3</th>\n",
              "      <td>Barcelona</td>\n",
              "      <td>24</td>\n",
              "      <td>27.7</td>\n",
              "      <td>65.7</td>\n",
              "      <td>38</td>\n",
              "      <td>418</td>\n",
              "      <td>3420</td>\n",
              "      <td>38</td>\n",
              "      <td>107</td>\n",
              "      <td>79</td>\n",
              "      <td>...</td>\n",
              "      <td>101</td>\n",
              "      <td>6</td>\n",
              "      <td>7</td>\n",
              "      <td>0</td>\n",
              "      <td>0</td>\n",
              "      <td>2.82</td>\n",
              "      <td>2.08</td>\n",
              "      <td>4.89</td>\n",
              "      <td>2.66</td>\n",
              "      <td>4.74</td>\n",
              "    </tr>\n",
              "    <tr>\n",
              "      <th>4</th>\n",
              "      <td>Celta Vigo</td>\n",
              "      <td>23</td>\n",
              "      <td>26.3</td>\n",
              "      <td>55.9</td>\n",
              "      <td>38</td>\n",
              "      <td>418</td>\n",
              "      <td>3420</td>\n",
              "      <td>38</td>\n",
              "      <td>47</td>\n",
              "      <td>33</td>\n",
              "      <td>...</td>\n",
              "      <td>43</td>\n",
              "      <td>4</td>\n",
              "      <td>6</td>\n",
              "      <td>0</td>\n",
              "      <td>0</td>\n",
              "      <td>1.24</td>\n",
              "      <td>0.87</td>\n",
              "      <td>2.11</td>\n",
              "      <td>1.13</td>\n",
              "      <td>2.00</td>\n",
              "    </tr>\n",
              "    <tr>\n",
              "      <th>5</th>\n",
              "      <td>Cordoba</td>\n",
              "      <td>33</td>\n",
              "      <td>25.7</td>\n",
              "      <td>45.9</td>\n",
              "      <td>38</td>\n",
              "      <td>418</td>\n",
              "      <td>3420</td>\n",
              "      <td>38</td>\n",
              "      <td>21</td>\n",
              "      <td>12</td>\n",
              "      <td>...</td>\n",
              "      <td>19</td>\n",
              "      <td>2</td>\n",
              "      <td>3</td>\n",
              "      <td>0</td>\n",
              "      <td>0</td>\n",
              "      <td>0.55</td>\n",
              "      <td>0.32</td>\n",
              "      <td>0.87</td>\n",
              "      <td>0.50</td>\n",
              "      <td>0.82</td>\n",
              "    </tr>\n",
              "    <tr>\n",
              "      <th>6</th>\n",
              "      <td>Eibar</td>\n",
              "      <td>23</td>\n",
              "      <td>27.6</td>\n",
              "      <td>43.8</td>\n",
              "      <td>38</td>\n",
              "      <td>418</td>\n",
              "      <td>3420</td>\n",
              "      <td>38</td>\n",
              "      <td>33</td>\n",
              "      <td>25</td>\n",
              "      <td>...</td>\n",
              "      <td>31</td>\n",
              "      <td>2</td>\n",
              "      <td>2</td>\n",
              "      <td>0</td>\n",
              "      <td>0</td>\n",
              "      <td>0.87</td>\n",
              "      <td>0.66</td>\n",
              "      <td>1.53</td>\n",
              "      <td>0.82</td>\n",
              "      <td>1.47</td>\n",
              "    </tr>\n",
              "    <tr>\n",
              "      <th>7</th>\n",
              "      <td>Elche</td>\n",
              "      <td>24</td>\n",
              "      <td>26.3</td>\n",
              "      <td>47.9</td>\n",
              "      <td>38</td>\n",
              "      <td>418</td>\n",
              "      <td>3420</td>\n",
              "      <td>38</td>\n",
              "      <td>35</td>\n",
              "      <td>25</td>\n",
              "      <td>...</td>\n",
              "      <td>31</td>\n",
              "      <td>4</td>\n",
              "      <td>7</td>\n",
              "      <td>0</td>\n",
              "      <td>0</td>\n",
              "      <td>0.92</td>\n",
              "      <td>0.66</td>\n",
              "      <td>1.58</td>\n",
              "      <td>0.82</td>\n",
              "      <td>1.47</td>\n",
              "    </tr>\n",
              "    <tr>\n",
              "      <th>8</th>\n",
              "      <td>Espanyol</td>\n",
              "      <td>27</td>\n",
              "      <td>26.9</td>\n",
              "      <td>46.0</td>\n",
              "      <td>38</td>\n",
              "      <td>418</td>\n",
              "      <td>3420</td>\n",
              "      <td>38</td>\n",
              "      <td>47</td>\n",
              "      <td>29</td>\n",
              "      <td>...</td>\n",
              "      <td>43</td>\n",
              "      <td>4</td>\n",
              "      <td>4</td>\n",
              "      <td>0</td>\n",
              "      <td>0</td>\n",
              "      <td>1.24</td>\n",
              "      <td>0.76</td>\n",
              "      <td>2.00</td>\n",
              "      <td>1.13</td>\n",
              "      <td>1.89</td>\n",
              "    </tr>\n",
              "    <tr>\n",
              "      <th>9</th>\n",
              "      <td>Getafe</td>\n",
              "      <td>27</td>\n",
              "      <td>26.9</td>\n",
              "      <td>46.9</td>\n",
              "      <td>38</td>\n",
              "      <td>418</td>\n",
              "      <td>3420</td>\n",
              "      <td>38</td>\n",
              "      <td>32</td>\n",
              "      <td>25</td>\n",
              "      <td>...</td>\n",
              "      <td>31</td>\n",
              "      <td>1</td>\n",
              "      <td>2</td>\n",
              "      <td>0</td>\n",
              "      <td>0</td>\n",
              "      <td>0.84</td>\n",
              "      <td>0.66</td>\n",
              "      <td>1.50</td>\n",
              "      <td>0.82</td>\n",
              "      <td>1.47</td>\n",
              "    </tr>\n",
              "    <tr>\n",
              "      <th>10</th>\n",
              "      <td>Granada</td>\n",
              "      <td>34</td>\n",
              "      <td>26.6</td>\n",
              "      <td>47.4</td>\n",
              "      <td>38</td>\n",
              "      <td>418</td>\n",
              "      <td>3420</td>\n",
              "      <td>38</td>\n",
              "      <td>29</td>\n",
              "      <td>17</td>\n",
              "      <td>...</td>\n",
              "      <td>23</td>\n",
              "      <td>6</td>\n",
              "      <td>6</td>\n",
              "      <td>0</td>\n",
              "      <td>0</td>\n",
              "      <td>0.76</td>\n",
              "      <td>0.45</td>\n",
              "      <td>1.21</td>\n",
              "      <td>0.61</td>\n",
              "      <td>1.05</td>\n",
              "    </tr>\n",
              "    <tr>\n",
              "      <th>11</th>\n",
              "      <td>La Coruna</td>\n",
              "      <td>27</td>\n",
              "      <td>26.9</td>\n",
              "      <td>48.4</td>\n",
              "      <td>38</td>\n",
              "      <td>418</td>\n",
              "      <td>3420</td>\n",
              "      <td>38</td>\n",
              "      <td>33</td>\n",
              "      <td>17</td>\n",
              "      <td>...</td>\n",
              "      <td>29</td>\n",
              "      <td>4</td>\n",
              "      <td>7</td>\n",
              "      <td>0</td>\n",
              "      <td>0</td>\n",
              "      <td>0.87</td>\n",
              "      <td>0.45</td>\n",
              "      <td>1.32</td>\n",
              "      <td>0.76</td>\n",
              "      <td>1.21</td>\n",
              "    </tr>\n",
              "    <tr>\n",
              "      <th>12</th>\n",
              "      <td>Levante</td>\n",
              "      <td>29</td>\n",
              "      <td>28.0</td>\n",
              "      <td>44.5</td>\n",
              "      <td>38</td>\n",
              "      <td>418</td>\n",
              "      <td>3420</td>\n",
              "      <td>38</td>\n",
              "      <td>34</td>\n",
              "      <td>22</td>\n",
              "      <td>...</td>\n",
              "      <td>31</td>\n",
              "      <td>3</td>\n",
              "      <td>4</td>\n",
              "      <td>0</td>\n",
              "      <td>0</td>\n",
              "      <td>0.89</td>\n",
              "      <td>0.58</td>\n",
              "      <td>1.47</td>\n",
              "      <td>0.82</td>\n",
              "      <td>1.39</td>\n",
              "    </tr>\n",
              "    <tr>\n",
              "      <th>13</th>\n",
              "      <td>Malaga</td>\n",
              "      <td>23</td>\n",
              "      <td>26.6</td>\n",
              "      <td>49.5</td>\n",
              "      <td>38</td>\n",
              "      <td>418</td>\n",
              "      <td>3420</td>\n",
              "      <td>38</td>\n",
              "      <td>40</td>\n",
              "      <td>27</td>\n",
              "      <td>...</td>\n",
              "      <td>36</td>\n",
              "      <td>4</td>\n",
              "      <td>7</td>\n",
              "      <td>0</td>\n",
              "      <td>0</td>\n",
              "      <td>1.05</td>\n",
              "      <td>0.71</td>\n",
              "      <td>1.76</td>\n",
              "      <td>0.95</td>\n",
              "      <td>1.66</td>\n",
              "    </tr>\n",
              "    <tr>\n",
              "      <th>14</th>\n",
              "      <td>Rayo Vallecano</td>\n",
              "      <td>28</td>\n",
              "      <td>27.2</td>\n",
              "      <td>54.8</td>\n",
              "      <td>38</td>\n",
              "      <td>418</td>\n",
              "      <td>3420</td>\n",
              "      <td>38</td>\n",
              "      <td>46</td>\n",
              "      <td>33</td>\n",
              "      <td>...</td>\n",
              "      <td>44</td>\n",
              "      <td>2</td>\n",
              "      <td>3</td>\n",
              "      <td>0</td>\n",
              "      <td>0</td>\n",
              "      <td>1.21</td>\n",
              "      <td>0.87</td>\n",
              "      <td>2.08</td>\n",
              "      <td>1.16</td>\n",
              "      <td>2.03</td>\n",
              "    </tr>\n",
              "    <tr>\n",
              "      <th>15</th>\n",
              "      <td>Real Madrid</td>\n",
              "      <td>24</td>\n",
              "      <td>26.4</td>\n",
              "      <td>56.2</td>\n",
              "      <td>38</td>\n",
              "      <td>418</td>\n",
              "      <td>3420</td>\n",
              "      <td>38</td>\n",
              "      <td>116</td>\n",
              "      <td>91</td>\n",
              "      <td>...</td>\n",
              "      <td>105</td>\n",
              "      <td>11</td>\n",
              "      <td>13</td>\n",
              "      <td>0</td>\n",
              "      <td>0</td>\n",
              "      <td>3.05</td>\n",
              "      <td>2.39</td>\n",
              "      <td>5.45</td>\n",
              "      <td>2.76</td>\n",
              "      <td>5.16</td>\n",
              "    </tr>\n",
              "    <tr>\n",
              "      <th>16</th>\n",
              "      <td>Real Sociedad</td>\n",
              "      <td>25</td>\n",
              "      <td>26.5</td>\n",
              "      <td>49.8</td>\n",
              "      <td>38</td>\n",
              "      <td>418</td>\n",
              "      <td>3420</td>\n",
              "      <td>38</td>\n",
              "      <td>41</td>\n",
              "      <td>35</td>\n",
              "      <td>...</td>\n",
              "      <td>38</td>\n",
              "      <td>3</td>\n",
              "      <td>3</td>\n",
              "      <td>0</td>\n",
              "      <td>0</td>\n",
              "      <td>1.08</td>\n",
              "      <td>0.92</td>\n",
              "      <td>2.00</td>\n",
              "      <td>1.00</td>\n",
              "      <td>1.92</td>\n",
              "    </tr>\n",
              "    <tr>\n",
              "      <th>17</th>\n",
              "      <td>Sevilla</td>\n",
              "      <td>26</td>\n",
              "      <td>26.2</td>\n",
              "      <td>50.3</td>\n",
              "      <td>38</td>\n",
              "      <td>418</td>\n",
              "      <td>3420</td>\n",
              "      <td>38</td>\n",
              "      <td>68</td>\n",
              "      <td>45</td>\n",
              "      <td>...</td>\n",
              "      <td>60</td>\n",
              "      <td>8</td>\n",
              "      <td>10</td>\n",
              "      <td>0</td>\n",
              "      <td>0</td>\n",
              "      <td>1.79</td>\n",
              "      <td>1.18</td>\n",
              "      <td>2.97</td>\n",
              "      <td>1.58</td>\n",
              "      <td>2.76</td>\n",
              "    </tr>\n",
              "    <tr>\n",
              "      <th>18</th>\n",
              "      <td>Valencia</td>\n",
              "      <td>24</td>\n",
              "      <td>24.8</td>\n",
              "      <td>50.0</td>\n",
              "      <td>38</td>\n",
              "      <td>418</td>\n",
              "      <td>3420</td>\n",
              "      <td>38</td>\n",
              "      <td>66</td>\n",
              "      <td>48</td>\n",
              "      <td>...</td>\n",
              "      <td>61</td>\n",
              "      <td>5</td>\n",
              "      <td>7</td>\n",
              "      <td>0</td>\n",
              "      <td>0</td>\n",
              "      <td>1.74</td>\n",
              "      <td>1.26</td>\n",
              "      <td>3.00</td>\n",
              "      <td>1.61</td>\n",
              "      <td>2.87</td>\n",
              "    </tr>\n",
              "    <tr>\n",
              "      <th>19</th>\n",
              "      <td>Villarreal</td>\n",
              "      <td>28</td>\n",
              "      <td>25.0</td>\n",
              "      <td>48.6</td>\n",
              "      <td>38</td>\n",
              "      <td>418</td>\n",
              "      <td>3420</td>\n",
              "      <td>38</td>\n",
              "      <td>48</td>\n",
              "      <td>34</td>\n",
              "      <td>...</td>\n",
              "      <td>46</td>\n",
              "      <td>2</td>\n",
              "      <td>2</td>\n",
              "      <td>0</td>\n",
              "      <td>0</td>\n",
              "      <td>1.26</td>\n",
              "      <td>0.89</td>\n",
              "      <td>2.16</td>\n",
              "      <td>1.21</td>\n",
              "      <td>2.11</td>\n",
              "    </tr>\n",
              "  </tbody>\n",
              "</table>\n",
              "<p>20 rows × 21 columns</p>\n",
              "</div>"
            ],
            "text/plain": [
              "             Equipo  PL  Edad  Pos.  PJ  Titular  MÃ­n  90 s  Gls.  Ass  ...  \\\n",
              "0          Almeri­a  27  26.1  46.4  38      418  3420    38    33   22  ...   \n",
              "1     Athletic Club  26  26.8  53.2  38      418  3420    38    41   26  ...   \n",
              "2   Atletico Madrid  25  27.5  48.6  38      418  3420    38    65   48  ...   \n",
              "3         Barcelona  24  27.7  65.7  38      418  3420    38   107   79  ...   \n",
              "4        Celta Vigo  23  26.3  55.9  38      418  3420    38    47   33  ...   \n",
              "5           Cordoba  33  25.7  45.9  38      418  3420    38    21   12  ...   \n",
              "6             Eibar  23  27.6  43.8  38      418  3420    38    33   25  ...   \n",
              "7             Elche  24  26.3  47.9  38      418  3420    38    35   25  ...   \n",
              "8          Espanyol  27  26.9  46.0  38      418  3420    38    47   29  ...   \n",
              "9            Getafe  27  26.9  46.9  38      418  3420    38    32   25  ...   \n",
              "10          Granada  34  26.6  47.4  38      418  3420    38    29   17  ...   \n",
              "11        La Coruna  27  26.9  48.4  38      418  3420    38    33   17  ...   \n",
              "12          Levante  29  28.0  44.5  38      418  3420    38    34   22  ...   \n",
              "13           Malaga  23  26.6  49.5  38      418  3420    38    40   27  ...   \n",
              "14   Rayo Vallecano  28  27.2  54.8  38      418  3420    38    46   33  ...   \n",
              "15      Real Madrid  24  26.4  56.2  38      418  3420    38   116   91  ...   \n",
              "16    Real Sociedad  25  26.5  49.8  38      418  3420    38    41   35  ...   \n",
              "17          Sevilla  26  26.2  50.3  38      418  3420    38    68   45  ...   \n",
              "18         Valencia  24  24.8  50.0  38      418  3420    38    66   48  ...   \n",
              "19       Villarreal  28  25.0  48.6  38      418  3420    38    48   34  ...   \n",
              "\n",
              "    G-TP  TP  TPint  TA  TR  Gls..1   Ast  G+A.1  G-TP.1  G+A-TP  \n",
              "0     28   5      6   0   0    0.87  0.58   1.45    0.74    1.32  \n",
              "1     36   5      5   0   0    1.08  0.68   1.76    0.95    1.63  \n",
              "2     60   5      6   0   0    1.71  1.26   2.97    1.58    2.84  \n",
              "3    101   6      7   0   0    2.82  2.08   4.89    2.66    4.74  \n",
              "4     43   4      6   0   0    1.24  0.87   2.11    1.13    2.00  \n",
              "5     19   2      3   0   0    0.55  0.32   0.87    0.50    0.82  \n",
              "6     31   2      2   0   0    0.87  0.66   1.53    0.82    1.47  \n",
              "7     31   4      7   0   0    0.92  0.66   1.58    0.82    1.47  \n",
              "8     43   4      4   0   0    1.24  0.76   2.00    1.13    1.89  \n",
              "9     31   1      2   0   0    0.84  0.66   1.50    0.82    1.47  \n",
              "10    23   6      6   0   0    0.76  0.45   1.21    0.61    1.05  \n",
              "11    29   4      7   0   0    0.87  0.45   1.32    0.76    1.21  \n",
              "12    31   3      4   0   0    0.89  0.58   1.47    0.82    1.39  \n",
              "13    36   4      7   0   0    1.05  0.71   1.76    0.95    1.66  \n",
              "14    44   2      3   0   0    1.21  0.87   2.08    1.16    2.03  \n",
              "15   105  11     13   0   0    3.05  2.39   5.45    2.76    5.16  \n",
              "16    38   3      3   0   0    1.08  0.92   2.00    1.00    1.92  \n",
              "17    60   8     10   0   0    1.79  1.18   2.97    1.58    2.76  \n",
              "18    61   5      7   0   0    1.74  1.26   3.00    1.61    2.87  \n",
              "19    46   2      2   0   0    1.26  0.89   2.16    1.21    2.11  \n",
              "\n",
              "[20 rows x 21 columns]"
            ]
          },
          "execution_count": 2,
          "metadata": {},
          "output_type": "execute_result"
        }
      ],
      "source": [
        "# Primer dataset\n",
        "\n",
        "var = pd.read_excel(\"14_15/generica.csv\")\n",
        "var"
      ]
    },
    {
      "attachments": {},
      "cell_type": "markdown",
      "metadata": {
        "id": "eQssggrrAdEy"
      },
      "source": [
        "## ESTADISTICAS TEMPORADA 15/16"
      ]
    },
    {
      "cell_type": "code",
      "execution_count": 3,
      "metadata": {
        "id": "qg7YoT6rAdEz"
      },
      "outputs": [
        {
          "name": "stdout",
          "output_type": "stream",
          "text": [
            "   Tarjetas Amarillas  Tarjetas Rojas  Total tarjetas\n",
            "0                2141             110            2251\n",
            "   Faltas totales\n",
            "0           10388\n"
          ]
        },
        {
          "data": {
            "text/html": [
              "<div>\n",
              "<style scoped>\n",
              "    .dataframe tbody tr th:only-of-type {\n",
              "        vertical-align: middle;\n",
              "    }\n",
              "\n",
              "    .dataframe tbody tr th {\n",
              "        vertical-align: top;\n",
              "    }\n",
              "\n",
              "    .dataframe thead th {\n",
              "        text-align: right;\n",
              "    }\n",
              "</style>\n",
              "<table border=\"1\" class=\"dataframe\">\n",
              "  <thead>\n",
              "    <tr style=\"text-align: right;\">\n",
              "      <th></th>\n",
              "      <th>Tarjetas Amarillas</th>\n",
              "      <th>Tarjetas Rojas</th>\n",
              "      <th>Total tarjetas</th>\n",
              "      <th>Faltas totales</th>\n",
              "    </tr>\n",
              "  </thead>\n",
              "  <tbody>\n",
              "    <tr>\n",
              "      <th>15/16</th>\n",
              "      <td>2141</td>\n",
              "      <td>110</td>\n",
              "      <td>2251</td>\n",
              "      <td>10388</td>\n",
              "    </tr>\n",
              "  </tbody>\n",
              "</table>\n",
              "</div>"
            ],
            "text/plain": [
              "       Tarjetas Amarillas  Tarjetas Rojas  Total tarjetas  Faltas totales\n",
              "15/16                2141             110            2251           10388"
            ]
          },
          "execution_count": 3,
          "metadata": {},
          "output_type": "execute_result"
        }
      ],
      "source": [
        "# ESTADISTICAS TOTALES DE TARJETAS AMARILLAS, ROJAS Y FALTAS EN LA TEMPORADA 15/16 ANTES DEL VAR\n",
        "\n",
        "var15_16 = pd.read_excel(\"15_16/generica.csv\")\n",
        "var15_16\n",
        "\n",
        "suma_amarillas15_16 = var15_16[\"TA\"].sum()\n",
        "suma_rojas15_16 = var15_16[\"TR\"].sum()\n",
        "suma_total15_16 = suma_amarillas15_16 + suma_rojas15_16\n",
        "\n",
        "# Crear un nuevo DataFrame con los resultados de tarjetas amarillas y rojas en la temporada 15/16\n",
        "df_resultado15_16 = pd.DataFrame({\n",
        "    \"Tarjetas Amarillas\": [suma_amarillas15_16],\n",
        "    \"Tarjetas Rojas\": [suma_rojas15_16],\n",
        "    \"Total tarjetas\": [suma_total15_16]})\n",
        "print(df_resultado15_16)\n",
        "\n",
        "# Crear un nuevo DataFrame con los resultados de faltas totales en la temporada 15/16\n",
        "faltas15_16 = pd.read_excel(\"15_16/adicionales.csv\")\n",
        "faltas15_16\n",
        "\n",
        "suma_faltas = faltas15_16[\"Fls\"].sum()\n",
        "df_faltas = pd.DataFrame({\n",
        "    \"Faltas totales\": [suma_faltas]})\n",
        "print(df_faltas)\n",
        "\n",
        "df_resultado15_16[\"Faltas totales\"] = df_faltas\n",
        "\n",
        "df_resultado15_16.index = ['15/16']\n",
        "df_resultado15_16\n"
      ]
    },
    {
      "cell_type": "code",
      "execution_count": 4,
      "metadata": {},
      "outputs": [
        {
          "data": {
            "text/html": [
              "<div>\n",
              "<style scoped>\n",
              "    .dataframe tbody tr th:only-of-type {\n",
              "        vertical-align: middle;\n",
              "    }\n",
              "\n",
              "    .dataframe tbody tr th {\n",
              "        vertical-align: top;\n",
              "    }\n",
              "\n",
              "    .dataframe thead th {\n",
              "        text-align: right;\n",
              "    }\n",
              "</style>\n",
              "<table border=\"1\" class=\"dataframe\">\n",
              "  <thead>\n",
              "    <tr style=\"text-align: right;\">\n",
              "      <th></th>\n",
              "      <th>Tarjetas Amarillas</th>\n",
              "      <th>Tarjetas Rojas</th>\n",
              "      <th>Total tarjetas</th>\n",
              "      <th>Faltas totales</th>\n",
              "      <th>Penaltis totales</th>\n",
              "    </tr>\n",
              "  </thead>\n",
              "  <tbody>\n",
              "    <tr>\n",
              "      <th>15/16</th>\n",
              "      <td>2141</td>\n",
              "      <td>110</td>\n",
              "      <td>2251</td>\n",
              "      <td>10388</td>\n",
              "      <td>97</td>\n",
              "    </tr>\n",
              "  </tbody>\n",
              "</table>\n",
              "</div>"
            ],
            "text/plain": [
              "       Tarjetas Amarillas  Tarjetas Rojas  Total tarjetas  Faltas totales  \\\n",
              "15/16                2141             110            2251           10388   \n",
              "\n",
              "       Penaltis totales  \n",
              "15/16                97  "
            ]
          },
          "execution_count": 4,
          "metadata": {},
          "output_type": "execute_result"
        }
      ],
      "source": [
        "# Crear un nuevo DataFrame con los penaltis totales en la temporada 15/16\n",
        "\n",
        "penaltis15_16 = pd.read_excel(\"15_16/generica.csv\")\n",
        "penaltis15_16\n",
        "\n",
        "suma_penaltis15_16 = penaltis15_16[\"TPint\"].sum()\n",
        "\n",
        "df_penaltis15_16 = pd.DataFrame({\n",
        "    \"Penaltis totales\": [suma_penaltis15_16]})\n",
        "df_penaltis15_16.index = ['15/16']\n",
        "\n",
        "# Creamos el dataframe total con las estadisticas que nos interesan en la 15/16\n",
        "\n",
        "df_resultado15_16[\"Penaltis totales\"] = df_penaltis15_16\n",
        "df_resultado15_16"
      ]
    },
    {
      "cell_type": "markdown",
      "metadata": {},
      "source": [
        "## ESTADISTICAS TEMPORADA 16/17"
      ]
    },
    {
      "cell_type": "code",
      "execution_count": 5,
      "metadata": {},
      "outputs": [
        {
          "name": "stdout",
          "output_type": "stream",
          "text": [
            "   Tarjetas Amarillas  Tarjetas Rojas  Total tarjetas\n",
            "0                1950              88            2038\n",
            "   Faltas totales\n",
            "0           10776\n"
          ]
        },
        {
          "data": {
            "text/html": [
              "<div>\n",
              "<style scoped>\n",
              "    .dataframe tbody tr th:only-of-type {\n",
              "        vertical-align: middle;\n",
              "    }\n",
              "\n",
              "    .dataframe tbody tr th {\n",
              "        vertical-align: top;\n",
              "    }\n",
              "\n",
              "    .dataframe thead th {\n",
              "        text-align: right;\n",
              "    }\n",
              "</style>\n",
              "<table border=\"1\" class=\"dataframe\">\n",
              "  <thead>\n",
              "    <tr style=\"text-align: right;\">\n",
              "      <th></th>\n",
              "      <th>Tarjetas Amarillas</th>\n",
              "      <th>Tarjetas Rojas</th>\n",
              "      <th>Total tarjetas</th>\n",
              "      <th>Faltas totales</th>\n",
              "    </tr>\n",
              "  </thead>\n",
              "  <tbody>\n",
              "    <tr>\n",
              "      <th>16/17</th>\n",
              "      <td>1950</td>\n",
              "      <td>88</td>\n",
              "      <td>2038</td>\n",
              "      <td>10776</td>\n",
              "    </tr>\n",
              "  </tbody>\n",
              "</table>\n",
              "</div>"
            ],
            "text/plain": [
              "       Tarjetas Amarillas  Tarjetas Rojas  Total tarjetas  Faltas totales\n",
              "16/17                1950              88            2038           10776"
            ]
          },
          "execution_count": 5,
          "metadata": {},
          "output_type": "execute_result"
        }
      ],
      "source": [
        "# ESTADISTICAS TOTALES DE TARJETAS AMARILLAS, ROJAS Y FALTAS EN LA TEMPORADA 16/17 ANTES DEL VAR\n",
        "\n",
        "var16_17 = pd.read_excel(\"16_17/generica.csv\")\n",
        "\n",
        "\n",
        "suma_amarillas16_17 = var16_17[\"TA\"].sum()\n",
        "suma_rojas16_17 = var16_17[\"TR\"].sum()\n",
        "suma_total16_17 = suma_amarillas16_17 + suma_rojas16_17\n",
        "\n",
        "# Crear un nuevo DataFrame con los resultados de tarjetas amarillas y rojas en la temporada 16/17\n",
        "df_resultado16_17 = pd.DataFrame({\n",
        "    \"Tarjetas Amarillas\": [suma_amarillas16_17],\n",
        "    \"Tarjetas Rojas\": [suma_rojas16_17],\n",
        "    \"Total tarjetas\": [suma_total16_17]})\n",
        "print(df_resultado16_17)\n",
        "\n",
        "# Crear un nuevo DataFrame con los resultados de faltas totales en la temporada 16/17\n",
        "faltas16_17 = pd.read_excel(\"16_17/adicionales.csv\")\n",
        "\n",
        "\n",
        "suma_faltas16_17 = faltas16_17[\"Fls\"].sum()\n",
        "df_faltas16_17 = pd.DataFrame({\n",
        "    \"Faltas totales\": [suma_faltas16_17]})\n",
        "print(df_faltas16_17)\n",
        "\n",
        "df_resultado16_17[\"Faltas totales\"] = df_faltas16_17\n",
        "\n",
        "df_resultado16_17.index = ['16/17']\n",
        "df_resultado16_17\n"
      ]
    },
    {
      "cell_type": "code",
      "execution_count": 6,
      "metadata": {},
      "outputs": [
        {
          "name": "stdout",
          "output_type": "stream",
          "text": [
            "       Penaltis totales\n",
            "16/17               120\n"
          ]
        },
        {
          "data": {
            "text/html": [
              "<div>\n",
              "<style scoped>\n",
              "    .dataframe tbody tr th:only-of-type {\n",
              "        vertical-align: middle;\n",
              "    }\n",
              "\n",
              "    .dataframe tbody tr th {\n",
              "        vertical-align: top;\n",
              "    }\n",
              "\n",
              "    .dataframe thead th {\n",
              "        text-align: right;\n",
              "    }\n",
              "</style>\n",
              "<table border=\"1\" class=\"dataframe\">\n",
              "  <thead>\n",
              "    <tr style=\"text-align: right;\">\n",
              "      <th></th>\n",
              "      <th>Tarjetas Amarillas</th>\n",
              "      <th>Tarjetas Rojas</th>\n",
              "      <th>Total tarjetas</th>\n",
              "      <th>Faltas totales</th>\n",
              "      <th>Penaltis totales</th>\n",
              "    </tr>\n",
              "  </thead>\n",
              "  <tbody>\n",
              "    <tr>\n",
              "      <th>16/17</th>\n",
              "      <td>1950</td>\n",
              "      <td>88</td>\n",
              "      <td>2038</td>\n",
              "      <td>10776</td>\n",
              "      <td>120</td>\n",
              "    </tr>\n",
              "  </tbody>\n",
              "</table>\n",
              "</div>"
            ],
            "text/plain": [
              "       Tarjetas Amarillas  Tarjetas Rojas  Total tarjetas  Faltas totales  \\\n",
              "16/17                1950              88            2038           10776   \n",
              "\n",
              "       Penaltis totales  \n",
              "16/17               120  "
            ]
          },
          "execution_count": 6,
          "metadata": {},
          "output_type": "execute_result"
        }
      ],
      "source": [
        "# Crear un nuevo DataFrame con los penaltis totales en la temporada 16/17\n",
        "\n",
        "penaltis16_17 = pd.read_excel(\"16_17/generica.csv\")\n",
        "penaltis16_17\n",
        "\n",
        "suma_penaltis16_17 = penaltis16_17[\"TPint\"].sum()\n",
        "\n",
        "df_penaltis16_17 = pd.DataFrame({\n",
        "    \"Penaltis totales\": [suma_penaltis16_17]})\n",
        "df_penaltis16_17.index = ['16/17']\n",
        "print(df_penaltis16_17)\n",
        "\n",
        "# Creamos el dataframe total con las estadisticas que nos interesan en la 16/17\n",
        "\n",
        "df_resultado16_17[\"Penaltis totales\"] = df_penaltis16_17\n",
        "df_resultado16_17"
      ]
    },
    {
      "cell_type": "markdown",
      "metadata": {},
      "source": [
        "## ESTADISTICAS TEMPORADA 17/18"
      ]
    },
    {
      "cell_type": "code",
      "execution_count": 7,
      "metadata": {},
      "outputs": [
        {
          "name": "stdout",
          "output_type": "stream",
          "text": [
            "   Tarjetas Amarillas  Tarjetas Rojas  Total tarjetas\n",
            "0                1870              71            1941\n",
            "   Faltas totales\n",
            "0           10531\n"
          ]
        },
        {
          "data": {
            "text/html": [
              "<div>\n",
              "<style scoped>\n",
              "    .dataframe tbody tr th:only-of-type {\n",
              "        vertical-align: middle;\n",
              "    }\n",
              "\n",
              "    .dataframe tbody tr th {\n",
              "        vertical-align: top;\n",
              "    }\n",
              "\n",
              "    .dataframe thead th {\n",
              "        text-align: right;\n",
              "    }\n",
              "</style>\n",
              "<table border=\"1\" class=\"dataframe\">\n",
              "  <thead>\n",
              "    <tr style=\"text-align: right;\">\n",
              "      <th></th>\n",
              "      <th>Tarjetas Amarillas</th>\n",
              "      <th>Tarjetas Rojas</th>\n",
              "      <th>Total tarjetas</th>\n",
              "      <th>Faltas totales</th>\n",
              "    </tr>\n",
              "  </thead>\n",
              "  <tbody>\n",
              "    <tr>\n",
              "      <th>17/18</th>\n",
              "      <td>1870</td>\n",
              "      <td>71</td>\n",
              "      <td>1941</td>\n",
              "      <td>10531</td>\n",
              "    </tr>\n",
              "  </tbody>\n",
              "</table>\n",
              "</div>"
            ],
            "text/plain": [
              "       Tarjetas Amarillas  Tarjetas Rojas  Total tarjetas  Faltas totales\n",
              "17/18                1870              71            1941           10531"
            ]
          },
          "execution_count": 7,
          "metadata": {},
          "output_type": "execute_result"
        }
      ],
      "source": [
        "# ESTADISTICAS TOTALES DE TARJETAS AMARILLAS, ROJAS Y FALTAS EN LA TEMPORADA 17/18 ANTES DEL VAR\n",
        "\n",
        "var17_18 = pd.read_excel(\"17_18/generica.csv\")\n",
        "\n",
        "\n",
        "suma_amarillas17_18 = var17_18[\"TA\"].sum()\n",
        "suma_rojas17_18 = var17_18[\"TR\"].sum()\n",
        "suma_total17_18 = suma_amarillas17_18 + suma_rojas17_18\n",
        "\n",
        "# Crear un nuevo DataFrame con los resultados de tarjetas amarillas y rojas en la temporada 17/18\n",
        "df_resultado17_18 = pd.DataFrame({\n",
        "    \"Tarjetas Amarillas\": [suma_amarillas17_18],\n",
        "    \"Tarjetas Rojas\": [suma_rojas17_18],\n",
        "    \"Total tarjetas\": [suma_total17_18]})\n",
        "print(df_resultado17_18)\n",
        "\n",
        "# Crear un nuevo DataFrame con los resultados de faltas totales en la temporada 17/18\n",
        "faltas17_18 = pd.read_excel(\"17_18/adicionales.csv\")\n",
        "\n",
        "\n",
        "suma_faltas17_18 = faltas17_18[\"Fls\"].sum()\n",
        "df_faltas17_18 = pd.DataFrame({\n",
        "    \"Faltas totales\": [suma_faltas17_18]})\n",
        "print(df_faltas17_18)\n",
        "\n",
        "df_resultado17_18[\"Faltas totales\"] = df_faltas17_18\n",
        "\n",
        "df_resultado17_18.index = ['17/18']\n",
        "df_resultado17_18"
      ]
    },
    {
      "cell_type": "code",
      "execution_count": 8,
      "metadata": {},
      "outputs": [
        {
          "name": "stdout",
          "output_type": "stream",
          "text": [
            "       Penaltis totales\n",
            "17/18               113\n"
          ]
        },
        {
          "data": {
            "text/html": [
              "<div>\n",
              "<style scoped>\n",
              "    .dataframe tbody tr th:only-of-type {\n",
              "        vertical-align: middle;\n",
              "    }\n",
              "\n",
              "    .dataframe tbody tr th {\n",
              "        vertical-align: top;\n",
              "    }\n",
              "\n",
              "    .dataframe thead th {\n",
              "        text-align: right;\n",
              "    }\n",
              "</style>\n",
              "<table border=\"1\" class=\"dataframe\">\n",
              "  <thead>\n",
              "    <tr style=\"text-align: right;\">\n",
              "      <th></th>\n",
              "      <th>Tarjetas Amarillas</th>\n",
              "      <th>Tarjetas Rojas</th>\n",
              "      <th>Total tarjetas</th>\n",
              "      <th>Faltas totales</th>\n",
              "      <th>Penaltis totales</th>\n",
              "    </tr>\n",
              "  </thead>\n",
              "  <tbody>\n",
              "    <tr>\n",
              "      <th>17/18</th>\n",
              "      <td>1870</td>\n",
              "      <td>71</td>\n",
              "      <td>1941</td>\n",
              "      <td>10531</td>\n",
              "      <td>113</td>\n",
              "    </tr>\n",
              "  </tbody>\n",
              "</table>\n",
              "</div>"
            ],
            "text/plain": [
              "       Tarjetas Amarillas  Tarjetas Rojas  Total tarjetas  Faltas totales  \\\n",
              "17/18                1870              71            1941           10531   \n",
              "\n",
              "       Penaltis totales  \n",
              "17/18               113  "
            ]
          },
          "execution_count": 8,
          "metadata": {},
          "output_type": "execute_result"
        }
      ],
      "source": [
        "# Crear un nuevo DataFrame con los penaltis totales en la temporada 17/18\n",
        "\n",
        "penaltis17_18 = pd.read_excel(\"17_18/generica.csv\")\n",
        "penaltis17_18\n",
        "\n",
        "suma_penaltis17_18 = penaltis17_18[\"TPint\"].sum()\n",
        "\n",
        "df_penaltis17_18 = pd.DataFrame({\n",
        "    \"Penaltis totales\": [suma_penaltis17_18]})\n",
        "df_penaltis17_18.index = ['17/18']\n",
        "print(df_penaltis17_18)\n",
        "\n",
        "# Creamos el dataframe total con las estadisticas que nos interesan en la 17/18\n",
        "\n",
        "df_resultado17_18[\"Penaltis totales\"] = df_penaltis17_18\n",
        "df_resultado17_18"
      ]
    },
    {
      "attachments": {},
      "cell_type": "markdown",
      "metadata": {},
      "source": [
        "## ESTADISTICAS TEMPORADA 18/19, PRIMERA TEMPORADA DEL VAR"
      ]
    },
    {
      "cell_type": "code",
      "execution_count": 9,
      "metadata": {},
      "outputs": [
        {
          "name": "stdout",
          "output_type": "stream",
          "text": [
            "   Tarjetas Amarillas  Tarjetas Rojas  Total tarjetas\n",
            "0                1915              78            1993\n",
            "   Faltas totales\n",
            "0           10306\n"
          ]
        },
        {
          "data": {
            "text/html": [
              "<div>\n",
              "<style scoped>\n",
              "    .dataframe tbody tr th:only-of-type {\n",
              "        vertical-align: middle;\n",
              "    }\n",
              "\n",
              "    .dataframe tbody tr th {\n",
              "        vertical-align: top;\n",
              "    }\n",
              "\n",
              "    .dataframe thead th {\n",
              "        text-align: right;\n",
              "    }\n",
              "</style>\n",
              "<table border=\"1\" class=\"dataframe\">\n",
              "  <thead>\n",
              "    <tr style=\"text-align: right;\">\n",
              "      <th></th>\n",
              "      <th>Tarjetas Amarillas</th>\n",
              "      <th>Tarjetas Rojas</th>\n",
              "      <th>Total tarjetas</th>\n",
              "      <th>Faltas totales</th>\n",
              "    </tr>\n",
              "  </thead>\n",
              "  <tbody>\n",
              "    <tr>\n",
              "      <th>18/19</th>\n",
              "      <td>1915</td>\n",
              "      <td>78</td>\n",
              "      <td>1993</td>\n",
              "      <td>10306</td>\n",
              "    </tr>\n",
              "  </tbody>\n",
              "</table>\n",
              "</div>"
            ],
            "text/plain": [
              "       Tarjetas Amarillas  Tarjetas Rojas  Total tarjetas  Faltas totales\n",
              "18/19                1915              78            1993           10306"
            ]
          },
          "execution_count": 9,
          "metadata": {},
          "output_type": "execute_result"
        }
      ],
      "source": [
        "# ESTADISTICAS TOTALES DE TARJETAS AMARILLAS, ROJAS Y FALTAS EN LA TEMPORADA 18/19 PRIMERA DEL VAR\n",
        "\n",
        "var18_19 = pd.read_excel(\"18_19/generica.csv\")\n",
        "\n",
        "\n",
        "suma_amarillas18_19 = var18_19[\"TA\"].sum()\n",
        "suma_rojas18_19 = var18_19[\"TR\"].sum()\n",
        "suma_total18_19 = suma_amarillas18_19 + suma_rojas18_19\n",
        "\n",
        "# Crear un nuevo DataFrame con los resultados de tarjetas amarillas y rojas en la temporada 18/19\n",
        "df_resultado18_19 = pd.DataFrame({\n",
        "    \"Tarjetas Amarillas\": [suma_amarillas18_19],\n",
        "    \"Tarjetas Rojas\": [suma_rojas18_19],\n",
        "    \"Total tarjetas\": [suma_total18_19]})\n",
        "print(df_resultado18_19)\n",
        "\n",
        "# Crear un nuevo DataFrame con los resultados de faltas totales en la temporada 18/19\n",
        "faltas18_19 = pd.read_excel(\"18_19/adicionales.csv\")\n",
        "\n",
        "\n",
        "suma_faltas18_19 = faltas18_19[\"Fls\"].sum()\n",
        "df_faltas18_19 = pd.DataFrame({\n",
        "    \"Faltas totales\": [suma_faltas18_19]})\n",
        "print(df_faltas18_19)\n",
        "\n",
        "df_resultado18_19[\"Faltas totales\"] = df_faltas18_19\n",
        "\n",
        "df_resultado18_19.index = ['18/19']\n",
        "df_resultado18_19"
      ]
    },
    {
      "cell_type": "code",
      "execution_count": 10,
      "metadata": {},
      "outputs": [
        {
          "name": "stdout",
          "output_type": "stream",
          "text": [
            "       Penaltis totales\n",
            "18/19               130\n"
          ]
        },
        {
          "data": {
            "text/html": [
              "<div>\n",
              "<style scoped>\n",
              "    .dataframe tbody tr th:only-of-type {\n",
              "        vertical-align: middle;\n",
              "    }\n",
              "\n",
              "    .dataframe tbody tr th {\n",
              "        vertical-align: top;\n",
              "    }\n",
              "\n",
              "    .dataframe thead th {\n",
              "        text-align: right;\n",
              "    }\n",
              "</style>\n",
              "<table border=\"1\" class=\"dataframe\">\n",
              "  <thead>\n",
              "    <tr style=\"text-align: right;\">\n",
              "      <th></th>\n",
              "      <th>Tarjetas Amarillas</th>\n",
              "      <th>Tarjetas Rojas</th>\n",
              "      <th>Total tarjetas</th>\n",
              "      <th>Faltas totales</th>\n",
              "      <th>Penaltis totales</th>\n",
              "    </tr>\n",
              "  </thead>\n",
              "  <tbody>\n",
              "    <tr>\n",
              "      <th>18/19</th>\n",
              "      <td>1915</td>\n",
              "      <td>78</td>\n",
              "      <td>1993</td>\n",
              "      <td>10306</td>\n",
              "      <td>130</td>\n",
              "    </tr>\n",
              "  </tbody>\n",
              "</table>\n",
              "</div>"
            ],
            "text/plain": [
              "       Tarjetas Amarillas  Tarjetas Rojas  Total tarjetas  Faltas totales  \\\n",
              "18/19                1915              78            1993           10306   \n",
              "\n",
              "       Penaltis totales  \n",
              "18/19               130  "
            ]
          },
          "execution_count": 10,
          "metadata": {},
          "output_type": "execute_result"
        }
      ],
      "source": [
        "# Crear un nuevo DataFrame con los penaltis totales en la temporada 18/19\n",
        "\n",
        "penaltis18_19 = pd.read_excel(\"18_19/generica.csv\")\n",
        "penaltis18_19\n",
        "\n",
        "suma_penaltis18_19 = penaltis18_19[\"TPint\"].sum()\n",
        "\n",
        "df_penaltis18_19 = pd.DataFrame({\n",
        "    \"Penaltis totales\": [suma_penaltis18_19]})\n",
        "df_penaltis18_19.index = ['18/19']\n",
        "print(df_penaltis18_19)\n",
        "\n",
        "# Creamos el dataframe total con las estadisticas que nos interesan en la 18/19\n",
        "\n",
        "df_resultado18_19[\"Penaltis totales\"] = df_penaltis18_19\n",
        "df_resultado18_19"
      ]
    },
    {
      "cell_type": "markdown",
      "metadata": {},
      "source": [
        "## ESTADISTICAS TEMPORADA 19/20"
      ]
    },
    {
      "cell_type": "code",
      "execution_count": 11,
      "metadata": {},
      "outputs": [
        {
          "name": "stdout",
          "output_type": "stream",
          "text": [
            "   Tarjetas Amarillas  Tarjetas Rojas  Total tarjetas\n",
            "0                1950              87            2037\n",
            "   Faltas totales\n",
            "0           10445\n"
          ]
        },
        {
          "data": {
            "text/html": [
              "<div>\n",
              "<style scoped>\n",
              "    .dataframe tbody tr th:only-of-type {\n",
              "        vertical-align: middle;\n",
              "    }\n",
              "\n",
              "    .dataframe tbody tr th {\n",
              "        vertical-align: top;\n",
              "    }\n",
              "\n",
              "    .dataframe thead th {\n",
              "        text-align: right;\n",
              "    }\n",
              "</style>\n",
              "<table border=\"1\" class=\"dataframe\">\n",
              "  <thead>\n",
              "    <tr style=\"text-align: right;\">\n",
              "      <th></th>\n",
              "      <th>Tarjetas Amarillas</th>\n",
              "      <th>Tarjetas Rojas</th>\n",
              "      <th>Total tarjetas</th>\n",
              "      <th>Faltas totales</th>\n",
              "    </tr>\n",
              "  </thead>\n",
              "  <tbody>\n",
              "    <tr>\n",
              "      <th>19/20</th>\n",
              "      <td>1950</td>\n",
              "      <td>87</td>\n",
              "      <td>2037</td>\n",
              "      <td>10445</td>\n",
              "    </tr>\n",
              "  </tbody>\n",
              "</table>\n",
              "</div>"
            ],
            "text/plain": [
              "       Tarjetas Amarillas  Tarjetas Rojas  Total tarjetas  Faltas totales\n",
              "19/20                1950              87            2037           10445"
            ]
          },
          "execution_count": 11,
          "metadata": {},
          "output_type": "execute_result"
        }
      ],
      "source": [
        "# ESTADISTICAS TOTALES DE TARJETAS AMARILLAS, ROJAS Y FALTAS EN LA TEMPORADA 19/20 \n",
        "\n",
        "var19_20 = pd.read_excel(\"19_20/generica.csv\")\n",
        "\n",
        "\n",
        "suma_amarillas19_20 = var19_20[\"TA\"].sum()\n",
        "suma_rojas19_20 = var19_20[\"TR\"].sum()\n",
        "suma_total19_20 = suma_amarillas19_20 + suma_rojas19_20\n",
        "\n",
        "# Crear un nuevo DataFrame con los resultados de tarjetas amarillas y rojas en la temporada 19/20\n",
        "df_resultado19_20 = pd.DataFrame({\n",
        "    \"Tarjetas Amarillas\": [suma_amarillas19_20],\n",
        "    \"Tarjetas Rojas\": [suma_rojas19_20],\n",
        "    \"Total tarjetas\": [suma_total19_20]})\n",
        "print(df_resultado19_20)\n",
        "\n",
        "# Crear un nuevo DataFrame con los resultados de faltas totales en la temporada 19/20\n",
        "faltas19_20 = pd.read_excel(\"19_20/adicionales.csv\")\n",
        "\n",
        "\n",
        "suma_faltas19_20 = faltas19_20[\"Fls\"].sum()\n",
        "df_faltas19_20 = pd.DataFrame({\n",
        "    \"Faltas totales\": [suma_faltas19_20]})\n",
        "print(df_faltas19_20)\n",
        "\n",
        "df_resultado19_20[\"Faltas totales\"] = df_faltas19_20\n",
        "\n",
        "df_resultado19_20.index = ['19/20']\n",
        "df_resultado19_20"
      ]
    },
    {
      "cell_type": "code",
      "execution_count": 12,
      "metadata": {},
      "outputs": [
        {
          "name": "stdout",
          "output_type": "stream",
          "text": [
            "       Penaltis totales\n",
            "19/20               149\n"
          ]
        },
        {
          "data": {
            "text/html": [
              "<div>\n",
              "<style scoped>\n",
              "    .dataframe tbody tr th:only-of-type {\n",
              "        vertical-align: middle;\n",
              "    }\n",
              "\n",
              "    .dataframe tbody tr th {\n",
              "        vertical-align: top;\n",
              "    }\n",
              "\n",
              "    .dataframe thead th {\n",
              "        text-align: right;\n",
              "    }\n",
              "</style>\n",
              "<table border=\"1\" class=\"dataframe\">\n",
              "  <thead>\n",
              "    <tr style=\"text-align: right;\">\n",
              "      <th></th>\n",
              "      <th>Tarjetas Amarillas</th>\n",
              "      <th>Tarjetas Rojas</th>\n",
              "      <th>Total tarjetas</th>\n",
              "      <th>Faltas totales</th>\n",
              "      <th>Penaltis totales</th>\n",
              "    </tr>\n",
              "  </thead>\n",
              "  <tbody>\n",
              "    <tr>\n",
              "      <th>19/20</th>\n",
              "      <td>1950</td>\n",
              "      <td>87</td>\n",
              "      <td>2037</td>\n",
              "      <td>10445</td>\n",
              "      <td>149</td>\n",
              "    </tr>\n",
              "  </tbody>\n",
              "</table>\n",
              "</div>"
            ],
            "text/plain": [
              "       Tarjetas Amarillas  Tarjetas Rojas  Total tarjetas  Faltas totales  \\\n",
              "19/20                1950              87            2037           10445   \n",
              "\n",
              "       Penaltis totales  \n",
              "19/20               149  "
            ]
          },
          "execution_count": 12,
          "metadata": {},
          "output_type": "execute_result"
        }
      ],
      "source": [
        "# Crear un nuevo DataFrame con los penaltis totales en la temporada 19/20\n",
        "\n",
        "penaltis19_20 = pd.read_excel(\"19_20/generica.csv\")\n",
        "penaltis19_20\n",
        "\n",
        "suma_penaltis19_20 = penaltis19_20[\"TPint\"].sum()\n",
        "\n",
        "df_penaltis19_20 = pd.DataFrame({\n",
        "    \"Penaltis totales\": [suma_penaltis19_20]})\n",
        "df_penaltis19_20.index = ['19/20']\n",
        "print(df_penaltis19_20)\n",
        "\n",
        "# Creamos el dataframe total con las estadisticas que nos interesan en la 19/20\n",
        "\n",
        "df_resultado19_20[\"Penaltis totales\"] = df_penaltis19_20\n",
        "df_resultado19_20"
      ]
    },
    {
      "cell_type": "markdown",
      "metadata": {},
      "source": [
        "## ESTADISTICAS TEMPORADA 20/21"
      ]
    },
    {
      "cell_type": "code",
      "execution_count": 13,
      "metadata": {},
      "outputs": [
        {
          "name": "stdout",
          "output_type": "stream",
          "text": [
            "   Tarjetas Amarillas  Tarjetas Rojas  Total tarjetas\n",
            "0                1698              75            1773\n",
            "   Faltas totales\n",
            "0           10069\n"
          ]
        },
        {
          "data": {
            "text/html": [
              "<div>\n",
              "<style scoped>\n",
              "    .dataframe tbody tr th:only-of-type {\n",
              "        vertical-align: middle;\n",
              "    }\n",
              "\n",
              "    .dataframe tbody tr th {\n",
              "        vertical-align: top;\n",
              "    }\n",
              "\n",
              "    .dataframe thead th {\n",
              "        text-align: right;\n",
              "    }\n",
              "</style>\n",
              "<table border=\"1\" class=\"dataframe\">\n",
              "  <thead>\n",
              "    <tr style=\"text-align: right;\">\n",
              "      <th></th>\n",
              "      <th>Tarjetas Amarillas</th>\n",
              "      <th>Tarjetas Rojas</th>\n",
              "      <th>Total tarjetas</th>\n",
              "      <th>Faltas totales</th>\n",
              "    </tr>\n",
              "  </thead>\n",
              "  <tbody>\n",
              "    <tr>\n",
              "      <th>20/21</th>\n",
              "      <td>1698</td>\n",
              "      <td>75</td>\n",
              "      <td>1773</td>\n",
              "      <td>10069</td>\n",
              "    </tr>\n",
              "  </tbody>\n",
              "</table>\n",
              "</div>"
            ],
            "text/plain": [
              "       Tarjetas Amarillas  Tarjetas Rojas  Total tarjetas  Faltas totales\n",
              "20/21                1698              75            1773           10069"
            ]
          },
          "execution_count": 13,
          "metadata": {},
          "output_type": "execute_result"
        }
      ],
      "source": [
        "# ESTADISTICAS TOTALES DE TARJETAS AMARILLAS, ROJAS Y FALTAS EN LA TEMPORADA 20/21 \n",
        "\n",
        "var20_21 = pd.read_excel(\"20_21/generica.csv\")\n",
        "\n",
        "\n",
        "suma_amarillas20_21 = var20_21[\"TA\"].sum()\n",
        "suma_rojas20_21 = var20_21[\"TR\"].sum()\n",
        "suma_total20_21 = suma_amarillas20_21 + suma_rojas20_21\n",
        "\n",
        "# Crear un nuevo DataFrame con los resultados de tarjetas amarillas y rojas en la temporada 20/21\n",
        "df_resultado20_21 = pd.DataFrame({\n",
        "    \"Tarjetas Amarillas\": [suma_amarillas20_21],\n",
        "    \"Tarjetas Rojas\": [suma_rojas20_21],\n",
        "    \"Total tarjetas\": [suma_total20_21]})\n",
        "print(df_resultado20_21)\n",
        "\n",
        "# Crear un nuevo DataFrame con los resultados de faltas totales en la temporada 20/21\n",
        "faltas20_21 = pd.read_excel(\"20_21/adicionales.csv\")\n",
        "\n",
        "\n",
        "suma_faltas20_21 = faltas20_21[\"Fls\"].sum()\n",
        "df_faltas20_21 = pd.DataFrame({\n",
        "    \"Faltas totales\": [suma_faltas20_21]})\n",
        "print(df_faltas20_21)\n",
        "\n",
        "df_resultado20_21[\"Faltas totales\"] = df_faltas20_21\n",
        "\n",
        "df_resultado20_21.index = ['20/21']\n",
        "df_resultado20_21"
      ]
    },
    {
      "cell_type": "code",
      "execution_count": 14,
      "metadata": {},
      "outputs": [
        {
          "name": "stdout",
          "output_type": "stream",
          "text": [
            "       Penaltis totales\n",
            "20/21               141\n"
          ]
        },
        {
          "data": {
            "text/html": [
              "<div>\n",
              "<style scoped>\n",
              "    .dataframe tbody tr th:only-of-type {\n",
              "        vertical-align: middle;\n",
              "    }\n",
              "\n",
              "    .dataframe tbody tr th {\n",
              "        vertical-align: top;\n",
              "    }\n",
              "\n",
              "    .dataframe thead th {\n",
              "        text-align: right;\n",
              "    }\n",
              "</style>\n",
              "<table border=\"1\" class=\"dataframe\">\n",
              "  <thead>\n",
              "    <tr style=\"text-align: right;\">\n",
              "      <th></th>\n",
              "      <th>Tarjetas Amarillas</th>\n",
              "      <th>Tarjetas Rojas</th>\n",
              "      <th>Total tarjetas</th>\n",
              "      <th>Faltas totales</th>\n",
              "      <th>Penaltis totales</th>\n",
              "    </tr>\n",
              "  </thead>\n",
              "  <tbody>\n",
              "    <tr>\n",
              "      <th>20/21</th>\n",
              "      <td>1698</td>\n",
              "      <td>75</td>\n",
              "      <td>1773</td>\n",
              "      <td>10069</td>\n",
              "      <td>141</td>\n",
              "    </tr>\n",
              "  </tbody>\n",
              "</table>\n",
              "</div>"
            ],
            "text/plain": [
              "       Tarjetas Amarillas  Tarjetas Rojas  Total tarjetas  Faltas totales  \\\n",
              "20/21                1698              75            1773           10069   \n",
              "\n",
              "       Penaltis totales  \n",
              "20/21               141  "
            ]
          },
          "execution_count": 14,
          "metadata": {},
          "output_type": "execute_result"
        }
      ],
      "source": [
        "# Crear un nuevo DataFrame con los penaltis totales en la temporada 20/21\n",
        "\n",
        "penaltis20_21 = pd.read_excel(\"20_21/generica.csv\")\n",
        "penaltis20_21\n",
        "\n",
        "suma_penaltis20_21 = penaltis20_21[\"TPint\"].sum()\n",
        "\n",
        "df_penaltis20_21 = pd.DataFrame({\n",
        "    \"Penaltis totales\": [suma_penaltis20_21]})\n",
        "df_penaltis20_21.index = ['20/21']\n",
        "print(df_penaltis20_21)\n",
        "\n",
        "# Creamos el dataframe total con las estadisticas que nos interesan en la 20/21\n",
        "\n",
        "df_resultado20_21[\"Penaltis totales\"] = df_penaltis20_21\n",
        "df_resultado20_21"
      ]
    },
    {
      "attachments": {},
      "cell_type": "markdown",
      "metadata": {},
      "source": [
        "## ESTADISTICAS TEMPORADA 21/22"
      ]
    },
    {
      "cell_type": "code",
      "execution_count": 15,
      "metadata": {},
      "outputs": [
        {
          "name": "stdout",
          "output_type": "stream",
          "text": [
            "   Tarjetas Amarillas  Tarjetas Rojas  Total tarjetas\n",
            "0                1972              92            2064\n",
            "   Faltas totales\n",
            "0           10061\n"
          ]
        },
        {
          "data": {
            "text/html": [
              "<div>\n",
              "<style scoped>\n",
              "    .dataframe tbody tr th:only-of-type {\n",
              "        vertical-align: middle;\n",
              "    }\n",
              "\n",
              "    .dataframe tbody tr th {\n",
              "        vertical-align: top;\n",
              "    }\n",
              "\n",
              "    .dataframe thead th {\n",
              "        text-align: right;\n",
              "    }\n",
              "</style>\n",
              "<table border=\"1\" class=\"dataframe\">\n",
              "  <thead>\n",
              "    <tr style=\"text-align: right;\">\n",
              "      <th></th>\n",
              "      <th>Tarjetas Amarillas</th>\n",
              "      <th>Tarjetas Rojas</th>\n",
              "      <th>Total tarjetas</th>\n",
              "      <th>Faltas totales</th>\n",
              "    </tr>\n",
              "  </thead>\n",
              "  <tbody>\n",
              "    <tr>\n",
              "      <th>21/22</th>\n",
              "      <td>1972</td>\n",
              "      <td>92</td>\n",
              "      <td>2064</td>\n",
              "      <td>10061</td>\n",
              "    </tr>\n",
              "  </tbody>\n",
              "</table>\n",
              "</div>"
            ],
            "text/plain": [
              "       Tarjetas Amarillas  Tarjetas Rojas  Total tarjetas  Faltas totales\n",
              "21/22                1972              92            2064           10061"
            ]
          },
          "execution_count": 15,
          "metadata": {},
          "output_type": "execute_result"
        }
      ],
      "source": [
        "# ESTADISTICAS TOTALES DE TARJETAS AMARILLAS, ROJAS Y FALTAS EN LA TEMPORADA 21/22\n",
        "\n",
        "var21_22 = pd.read_excel(\"21_22/generica.csv\")\n",
        "\n",
        "\n",
        "suma_amarillas21_22 = var21_22[\"TA\"].sum()\n",
        "suma_rojas21_22 = var21_22[\"TR\"].sum()\n",
        "suma_total21_22 = suma_amarillas21_22 + suma_rojas21_22\n",
        "\n",
        "# Crear un nuevo DataFrame con los resultados de tarjetas amarillas y rojas en la temporada 21/22\n",
        "df_resultado21_22 = pd.DataFrame({\n",
        "    \"Tarjetas Amarillas\": [suma_amarillas21_22],\n",
        "    \"Tarjetas Rojas\": [suma_rojas21_22],\n",
        "    \"Total tarjetas\": [suma_total21_22]})\n",
        "print(df_resultado21_22)\n",
        "\n",
        "# Crear un nuevo DataFrame con los resultados de faltas totales en la temporada 21/22\n",
        "faltas21_22 = pd.read_excel(\"21_22/adicionales.csv\")\n",
        "\n",
        "\n",
        "suma_faltas21_22 = faltas21_22[\"Fls\"].sum()\n",
        "df_faltas21_22 = pd.DataFrame({\n",
        "    \"Faltas totales\": [suma_faltas21_22]})\n",
        "print(df_faltas21_22)\n",
        "\n",
        "df_resultado21_22[\"Faltas totales\"] = df_faltas21_22\n",
        "\n",
        "df_resultado21_22.index = ['21/22']\n",
        "df_resultado21_22"
      ]
    },
    {
      "cell_type": "code",
      "execution_count": 16,
      "metadata": {},
      "outputs": [
        {
          "name": "stdout",
          "output_type": "stream",
          "text": [
            "       Penaltis totales\n",
            "21/22               132\n"
          ]
        },
        {
          "data": {
            "text/html": [
              "<div>\n",
              "<style scoped>\n",
              "    .dataframe tbody tr th:only-of-type {\n",
              "        vertical-align: middle;\n",
              "    }\n",
              "\n",
              "    .dataframe tbody tr th {\n",
              "        vertical-align: top;\n",
              "    }\n",
              "\n",
              "    .dataframe thead th {\n",
              "        text-align: right;\n",
              "    }\n",
              "</style>\n",
              "<table border=\"1\" class=\"dataframe\">\n",
              "  <thead>\n",
              "    <tr style=\"text-align: right;\">\n",
              "      <th></th>\n",
              "      <th>Tarjetas Amarillas</th>\n",
              "      <th>Tarjetas Rojas</th>\n",
              "      <th>Total tarjetas</th>\n",
              "      <th>Faltas totales</th>\n",
              "      <th>Penaltis totales</th>\n",
              "    </tr>\n",
              "  </thead>\n",
              "  <tbody>\n",
              "    <tr>\n",
              "      <th>21/22</th>\n",
              "      <td>1972</td>\n",
              "      <td>92</td>\n",
              "      <td>2064</td>\n",
              "      <td>10061</td>\n",
              "      <td>132</td>\n",
              "    </tr>\n",
              "  </tbody>\n",
              "</table>\n",
              "</div>"
            ],
            "text/plain": [
              "       Tarjetas Amarillas  Tarjetas Rojas  Total tarjetas  Faltas totales  \\\n",
              "21/22                1972              92            2064           10061   \n",
              "\n",
              "       Penaltis totales  \n",
              "21/22               132  "
            ]
          },
          "execution_count": 16,
          "metadata": {},
          "output_type": "execute_result"
        }
      ],
      "source": [
        "# Crear un nuevo DataFrame con los penaltis totales en la temporada 21/22\n",
        "\n",
        "penaltis21_22 = pd.read_excel(\"21_22/generica.csv\")\n",
        "penaltis21_22\n",
        "\n",
        "suma_penaltis21_22 = penaltis21_22[\"TPint\"].sum()\n",
        "\n",
        "df_penaltis21_22 = pd.DataFrame({\n",
        "    \"Penaltis totales\": [suma_penaltis21_22]})\n",
        "df_penaltis21_22.index = ['21/22']\n",
        "print(df_penaltis21_22)\n",
        "\n",
        "# Creamos el dataframe total con las estadisticas que nos interesan en la 21/22\n",
        "\n",
        "df_resultado21_22[\"Penaltis totales\"] = df_penaltis21_22\n",
        "df_resultado21_22"
      ]
    },
    {
      "attachments": {},
      "cell_type": "markdown",
      "metadata": {},
      "source": [
        "## CREAMOS UN DATAFRAME CON TODAS LAS ESTADISTICAS GLOBALES"
      ]
    },
    {
      "cell_type": "code",
      "execution_count": 17,
      "metadata": {},
      "outputs": [
        {
          "data": {
            "text/html": [
              "<div>\n",
              "<style scoped>\n",
              "    .dataframe tbody tr th:only-of-type {\n",
              "        vertical-align: middle;\n",
              "    }\n",
              "\n",
              "    .dataframe tbody tr th {\n",
              "        vertical-align: top;\n",
              "    }\n",
              "\n",
              "    .dataframe thead th {\n",
              "        text-align: right;\n",
              "    }\n",
              "</style>\n",
              "<table border=\"1\" class=\"dataframe\">\n",
              "  <thead>\n",
              "    <tr style=\"text-align: right;\">\n",
              "      <th></th>\n",
              "      <th>Tarjetas Amarillas</th>\n",
              "      <th>Tarjetas Rojas</th>\n",
              "      <th>Total tarjetas</th>\n",
              "      <th>Faltas totales</th>\n",
              "      <th>Penaltis totales</th>\n",
              "    </tr>\n",
              "  </thead>\n",
              "  <tbody>\n",
              "    <tr>\n",
              "      <th>15/16</th>\n",
              "      <td>2141</td>\n",
              "      <td>110</td>\n",
              "      <td>2251</td>\n",
              "      <td>10388</td>\n",
              "      <td>97</td>\n",
              "    </tr>\n",
              "    <tr>\n",
              "      <th>16/17</th>\n",
              "      <td>1950</td>\n",
              "      <td>88</td>\n",
              "      <td>2038</td>\n",
              "      <td>10776</td>\n",
              "      <td>120</td>\n",
              "    </tr>\n",
              "    <tr>\n",
              "      <th>17/18</th>\n",
              "      <td>1870</td>\n",
              "      <td>71</td>\n",
              "      <td>1941</td>\n",
              "      <td>10531</td>\n",
              "      <td>113</td>\n",
              "    </tr>\n",
              "    <tr>\n",
              "      <th>18/19</th>\n",
              "      <td>1915</td>\n",
              "      <td>78</td>\n",
              "      <td>1993</td>\n",
              "      <td>10306</td>\n",
              "      <td>130</td>\n",
              "    </tr>\n",
              "    <tr>\n",
              "      <th>19/20</th>\n",
              "      <td>1950</td>\n",
              "      <td>87</td>\n",
              "      <td>2037</td>\n",
              "      <td>10445</td>\n",
              "      <td>149</td>\n",
              "    </tr>\n",
              "    <tr>\n",
              "      <th>20/21</th>\n",
              "      <td>1698</td>\n",
              "      <td>75</td>\n",
              "      <td>1773</td>\n",
              "      <td>10069</td>\n",
              "      <td>141</td>\n",
              "    </tr>\n",
              "    <tr>\n",
              "      <th>21/22</th>\n",
              "      <td>1972</td>\n",
              "      <td>92</td>\n",
              "      <td>2064</td>\n",
              "      <td>10061</td>\n",
              "      <td>132</td>\n",
              "    </tr>\n",
              "  </tbody>\n",
              "</table>\n",
              "</div>"
            ],
            "text/plain": [
              "       Tarjetas Amarillas  Tarjetas Rojas  Total tarjetas  Faltas totales  \\\n",
              "15/16                2141             110            2251           10388   \n",
              "16/17                1950              88            2038           10776   \n",
              "17/18                1870              71            1941           10531   \n",
              "18/19                1915              78            1993           10306   \n",
              "19/20                1950              87            2037           10445   \n",
              "20/21                1698              75            1773           10069   \n",
              "21/22                1972              92            2064           10061   \n",
              "\n",
              "       Penaltis totales  \n",
              "15/16                97  \n",
              "16/17               120  \n",
              "17/18               113  \n",
              "18/19               130  \n",
              "19/20               149  \n",
              "20/21               141  \n",
              "21/22               132  "
            ]
          },
          "execution_count": 17,
          "metadata": {},
          "output_type": "execute_result"
        }
      ],
      "source": [
        "# Concatenamos todos los dataframes anteriores para obtener un solo dataframe\n",
        "\n",
        "df_total = pd.concat([df_resultado15_16, df_resultado16_17, df_resultado17_18, df_resultado18_19, df_resultado19_20, df_resultado20_21, df_resultado21_22], axis=0)\n",
        "df_total"
      ]
    },
    {
      "cell_type": "code",
      "execution_count": 18,
      "metadata": {},
      "outputs": [
        {
          "data": {
            "image/png": "[encoded data removed]",
            "text/plain": [
              "<Figure size 640x480 with 1 Axes>"
            ]
          },
          "metadata": {},
          "output_type": "display_data"
        }
      ],
      "source": [
        "# Mostramos un histograma con las faltas totales\n",
        "\n",
        "plt.bar(df_total.index, df_total['Faltas totales'])\n",
        "\n",
        "# personalizar el gráfico\n",
        "plt.axvline(x=2.5, color='red')\n",
        "plt.xlabel('Temporadas')\n",
        "plt.ylabel('Faltas totales')\n",
        "plt.title('Total Faltas Totales')\n",
        "plt.show()"
      ]
    },
    {
      "cell_type": "code",
      "execution_count": 26,
      "metadata": {},
      "outputs": [
        {
          "data": {
            "image/png": "[encoded data removed]",
            "text/plain": [
              "<Figure size 640x480 with 1 Axes>"
            ]
          },
          "metadata": {},
          "output_type": "display_data"
        }
      ],
      "source": [
        "# Mostramos un histograma con las tarjetas amarillas totales\n",
        "\n",
        "plt.bar(df_total.index, df_total['Tarjetas Amarillas'])\n",
        "\n",
        "# personalizar el gráfico\n",
        "plt.axvline(x=2.5, color='red')\n",
        "plt.xlabel('Temporadas')\n",
        "plt.ylabel('Tarjetas Amarillas')\n",
        "plt.title('Total Tarjetas Amarillas')\n",
        "plt.show()"
      ]
    },
    {
      "cell_type": "code",
      "execution_count": 20,
      "metadata": {},
      "outputs": [
        {
          "data": {
            "image/png": "[encoded data removed]",
            "text/plain": [
              "<Figure size 640x480 with 1 Axes>"
            ]
          },
          "metadata": {},
          "output_type": "display_data"
        }
      ],
      "source": [
        "# Mostramos un histograma con las tarjetas rojas totales\n",
        "\n",
        "plt.bar(df_total.index, df_total['Tarjetas Rojas'])\n",
        "\n",
        "# personalizar el gráfico\n",
        "plt.axvline(x=2.5, color='red')\n",
        "plt.xlabel('Temporadas')\n",
        "plt.ylabel('Tarjetas Rojas')\n",
        "plt.title('Total Tarjetas Rojas')\n",
        "plt.show()"
      ]
    },
    {
      "cell_type": "code",
      "execution_count": 27,
      "metadata": {},
      "outputs": [
        {
          "data": {
            "image/png": "[encoded data removed]",
            "text/plain": [
              "<Figure size 640x480 with 1 Axes>"
            ]
          },
          "metadata": {},
          "output_type": "display_data"
        }
      ],
      "source": [
        "# Mostramos un Line chart de las tarjetas rojas totales\n",
        "\n",
        "plt.plot(df_total.index, df_total['Tarjetas Rojas'])\n",
        "for index, row in df_total.iterrows():\n",
        "    x = index\n",
        "    y = df_total.loc[index, 'Tarjetas Rojas']\n",
        "    plt.plot(x, y, 'o', color='red', alpha=0.5)\n",
        "# personalizar el gráfico\n",
        "plt.axvline(x=2.5, color='red')\n",
        "plt.xlabel('Temporadas')\n",
        "plt.ylabel('Tarjetas Rojas')\n",
        "plt.title('Total Tarjetas Rojas')\n",
        "plt.show()"
      ]
    },
    {
      "cell_type": "code",
      "execution_count": 52,
      "metadata": {},
      "outputs": [
        {
          "data": {
            "image/png": "[encoded data removed]",
            "text/plain": [
              "<Figure size 640x480 with 1 Axes>"
            ]
          },
          "metadata": {},
          "output_type": "display_data"
        }
      ],
      "source": [
        "# Mostramos un histograma con los penaltis totales\n",
        "\n",
        "plt.bar(df_total.index, df_total['Penaltis totales'])\n",
        "\n",
        "# personalizar el gráfico\n",
        "plt.axvline(x=2.5, color='red')\n",
        "plt.xlabel('Temporadas')\n",
        "plt.ylabel('Penaltis totales')\n",
        "plt.title('Total Penaltis totales')\n",
        "plt.show()"
      ]
    },
    {
      "cell_type": "code",
      "execution_count": null,
      "metadata": {},
      "outputs": [],
      "source": []
    },
    {
      "cell_type": "code",
      "execution_count": 56,
      "metadata": {},
      "outputs": [
        {
          "data": {
            "image/png": "[encoded data removed]",
            "text/plain": [
              "<Figure size 640x480 with 1 Axes>"
            ]
          },
          "metadata": {},
          "output_type": "display_data"
        }
      ],
      "source": [
        "# Mostramos un Line chart de los penaltis totales\n",
        "\n",
        "plt.plot(df_total.index, df_total['Penaltis totales'])\n",
        "for index, row in df_total.iterrows():\n",
        "    x = index\n",
        "    y = df_total.loc[index, 'Penaltis totales']\n",
        "    plt.plot(x, y, 'o', color='red', alpha=0.5)\n",
        "# personalizar el gráfico\n",
        "plt.axvline(x=2.5, color='red')\n",
        "plt.xlabel('Temporadas')\n",
        "plt.ylabel('Penaltis totales')\n",
        "plt.title('Total Penaltis totales')\n",
        "plt.show()"
      ]
    },
    {
      "cell_type": "markdown",
      "metadata": {},
      "source": [
        "### COMPARACION TIEMPO EFECTIVO DE JUEGO"
      ]
    },
    {
      "cell_type": "code",
      "execution_count": 52,
      "metadata": {},
      "outputs": [
        {
          "data": {
            "text/html": [
              "<div>\n",
              "<style scoped>\n",
              "    .dataframe tbody tr th:only-of-type {\n",
              "        vertical-align: middle;\n",
              "    }\n",
              "\n",
              "    .dataframe tbody tr th {\n",
              "        vertical-align: top;\n",
              "    }\n",
              "\n",
              "    .dataframe thead th {\n",
              "        text-align: right;\n",
              "    }\n",
              "</style>\n",
              "<table border=\"1\" class=\"dataframe\">\n",
              "  <thead>\n",
              "    <tr style=\"text-align: right;\">\n",
              "      <th></th>\n",
              "      <th>Tiempo efectivo juego</th>\n",
              "    </tr>\n",
              "    <tr>\n",
              "      <th>Temporada</th>\n",
              "      <th></th>\n",
              "    </tr>\n",
              "  </thead>\n",
              "  <tbody>\n",
              "    <tr>\n",
              "      <th>15/16</th>\n",
              "      <td>54.18</td>\n",
              "    </tr>\n",
              "    <tr>\n",
              "      <th>16/17</th>\n",
              "      <td>54.30</td>\n",
              "    </tr>\n",
              "    <tr>\n",
              "      <th>17/18</th>\n",
              "      <td>54.10</td>\n",
              "    </tr>\n",
              "    <tr>\n",
              "      <th>18/19</th>\n",
              "      <td>51.38</td>\n",
              "    </tr>\n",
              "    <tr>\n",
              "      <th>19/20</th>\n",
              "      <td>51.59</td>\n",
              "    </tr>\n",
              "    <tr>\n",
              "      <th>20/21</th>\n",
              "      <td>52.52</td>\n",
              "    </tr>\n",
              "    <tr>\n",
              "      <th>21/22</th>\n",
              "      <td>52.31</td>\n",
              "    </tr>\n",
              "  </tbody>\n",
              "</table>\n",
              "</div>"
            ],
            "text/plain": [
              "           Tiempo efectivo juego\n",
              "Temporada                       \n",
              "15/16                      54.18\n",
              "16/17                      54.30\n",
              "17/18                      54.10\n",
              "18/19                      51.38\n",
              "19/20                      51.59\n",
              "20/21                      52.52\n",
              "21/22                      52.31"
            ]
          },
          "execution_count": 52,
          "metadata": {},
          "output_type": "execute_result"
        }
      ],
      "source": [
        "# CREAMOS UN DATAFRAME CON LOS TIEMPO EFECTIVO DE JUEGO\n",
        "\n",
        "tiempo_efectivo_juego = pd.read_excel(\"tiempo_juego.csv\")\n",
        "tiempo_efectivo_juego.set_index('Temporada', inplace=True)\n",
        "tiempo_efectivo_juego"
      ]
    },
    {
      "cell_type": "code",
      "execution_count": 53,
      "metadata": {},
      "outputs": [
        {
          "data": {
            "image/png": "[encoded data removed]",
            "text/plain": [
              "<Figure size 640x480 with 1 Axes>"
            ]
          },
          "metadata": {},
          "output_type": "display_data"
        }
      ],
      "source": [
        "# Mostramos un Line chart de los totales de tiempo efectivo de juego\n",
        "\n",
        "plt.plot(tiempo_efectivo_juego.index, tiempo_efectivo_juego['Tiempo efectivo juego'])\n",
        "for index, row in tiempo_efectivo_juego.iterrows():\n",
        "    x = index\n",
        "    y = tiempo_efectivo_juego.loc[index, 'Tiempo efectivo juego']\n",
        "    plt.plot(x, y, 'o', color='red', alpha=0.5)\n",
        "# personalizar el gráfico\n",
        "plt.xlabel('Temporadas')\n",
        "plt.ylabel('Tiempo efectivo de juego (min)')\n",
        "plt.title('Total tiempo efectivo de juego')\n",
        "\n",
        "posicion_linea = (2 + 3) / 2\n",
        "plt.axvline(x=tiempo_efectivo_juego.index[int(posicion_linea)], color='red')\n",
        "\n",
        "plt.show()"
      ]
    },
    {
      "cell_type": "code",
      "execution_count": 19,
      "metadata": {},
      "outputs": [
        {
          "data": {
            "text/html": [
              "<div>\n",
              "<style scoped>\n",
              "    .dataframe tbody tr th:only-of-type {\n",
              "        vertical-align: middle;\n",
              "    }\n",
              "\n",
              "    .dataframe tbody tr th {\n",
              "        vertical-align: top;\n",
              "    }\n",
              "\n",
              "    .dataframe thead th {\n",
              "        text-align: right;\n",
              "    }\n",
              "</style>\n",
              "<table border=\"1\" class=\"dataframe\">\n",
              "  <thead>\n",
              "    <tr style=\"text-align: right;\">\n",
              "      <th></th>\n",
              "      <th>Tarjetas Amarillas</th>\n",
              "      <th>Tarjetas Rojas</th>\n",
              "      <th>Total tarjetas</th>\n",
              "      <th>Faltas totales</th>\n",
              "      <th>Penaltis totales</th>\n",
              "    </tr>\n",
              "  </thead>\n",
              "  <tbody>\n",
              "    <tr>\n",
              "      <th>Tarjetas Amarillas</th>\n",
              "      <td>1.000000</td>\n",
              "      <td>0.862756</td>\n",
              "      <td>0.998938</td>\n",
              "      <td>0.305791</td>\n",
              "      <td>-0.595102</td>\n",
              "    </tr>\n",
              "    <tr>\n",
              "      <th>Tarjetas Rojas</th>\n",
              "      <td>0.862756</td>\n",
              "      <td>1.000000</td>\n",
              "      <td>0.885139</td>\n",
              "      <td>0.043701</td>\n",
              "      <td>-0.472069</td>\n",
              "    </tr>\n",
              "    <tr>\n",
              "      <th>Total tarjetas</th>\n",
              "      <td>0.998938</td>\n",
              "      <td>0.885139</td>\n",
              "      <td>1.000000</td>\n",
              "      <td>0.285405</td>\n",
              "      <td>-0.590700</td>\n",
              "    </tr>\n",
              "    <tr>\n",
              "      <th>Faltas totales</th>\n",
              "      <td>0.305791</td>\n",
              "      <td>0.043701</td>\n",
              "      <td>0.285405</td>\n",
              "      <td>1.000000</td>\n",
              "      <td>-0.371768</td>\n",
              "    </tr>\n",
              "    <tr>\n",
              "      <th>Penaltis totales</th>\n",
              "      <td>-0.595102</td>\n",
              "      <td>-0.472069</td>\n",
              "      <td>-0.590700</td>\n",
              "      <td>-0.371768</td>\n",
              "      <td>1.000000</td>\n",
              "    </tr>\n",
              "  </tbody>\n",
              "</table>\n",
              "</div>"
            ],
            "text/plain": [
              "                    Tarjetas Amarillas  Tarjetas Rojas  Total tarjetas  \\\n",
              "Tarjetas Amarillas            1.000000        0.862756        0.998938   \n",
              "Tarjetas Rojas                0.862756        1.000000        0.885139   \n",
              "Total tarjetas                0.998938        0.885139        1.000000   \n",
              "Faltas totales                0.305791        0.043701        0.285405   \n",
              "Penaltis totales             -0.595102       -0.472069       -0.590700   \n",
              "\n",
              "                    Faltas totales  Penaltis totales  \n",
              "Tarjetas Amarillas        0.305791         -0.595102  \n",
              "Tarjetas Rojas            0.043701         -0.472069  \n",
              "Total tarjetas            0.285405         -0.590700  \n",
              "Faltas totales            1.000000         -0.371768  \n",
              "Penaltis totales         -0.371768          1.000000  "
            ]
          },
          "execution_count": 19,
          "metadata": {},
          "output_type": "execute_result"
        }
      ],
      "source": [
        "df_total.corr()"
      ]
    },
    {
      "cell_type": "code",
      "execution_count": 21,
      "metadata": {},
      "outputs": [
        {
          "data": {
            "text/html": [
              "<div>\n",
              "<style scoped>\n",
              "    .dataframe tbody tr th:only-of-type {\n",
              "        vertical-align: middle;\n",
              "    }\n",
              "\n",
              "    .dataframe tbody tr th {\n",
              "        vertical-align: top;\n",
              "    }\n",
              "\n",
              "    .dataframe thead th {\n",
              "        text-align: right;\n",
              "    }\n",
              "</style>\n",
              "<table border=\"1\" class=\"dataframe\">\n",
              "  <thead>\n",
              "    <tr style=\"text-align: right;\">\n",
              "      <th></th>\n",
              "      <th>Tarjetas Amarillas</th>\n",
              "      <th>Tarjetas Rojas</th>\n",
              "      <th>Total tarjetas</th>\n",
              "      <th>Faltas totales</th>\n",
              "      <th>Penaltis totales</th>\n",
              "    </tr>\n",
              "  </thead>\n",
              "  <tbody>\n",
              "    <tr>\n",
              "      <th>count</th>\n",
              "      <td>7.000000</td>\n",
              "      <td>7.000000</td>\n",
              "      <td>7.000000</td>\n",
              "      <td>7.000000</td>\n",
              "      <td>7.000000</td>\n",
              "    </tr>\n",
              "    <tr>\n",
              "      <th>mean</th>\n",
              "      <td>1928.000000</td>\n",
              "      <td>85.857143</td>\n",
              "      <td>2013.857143</td>\n",
              "      <td>10368.000000</td>\n",
              "      <td>126.000000</td>\n",
              "    </tr>\n",
              "    <tr>\n",
              "      <th>std</th>\n",
              "      <td>132.102233</td>\n",
              "      <td>13.082158</td>\n",
              "      <td>143.541433</td>\n",
              "      <td>253.921248</td>\n",
              "      <td>17.568912</td>\n",
              "    </tr>\n",
              "    <tr>\n",
              "      <th>min</th>\n",
              "      <td>1698.000000</td>\n",
              "      <td>71.000000</td>\n",
              "      <td>1773.000000</td>\n",
              "      <td>10061.000000</td>\n",
              "      <td>97.000000</td>\n",
              "    </tr>\n",
              "    <tr>\n",
              "      <th>25%</th>\n",
              "      <td>1892.500000</td>\n",
              "      <td>76.500000</td>\n",
              "      <td>1967.000000</td>\n",
              "      <td>10187.500000</td>\n",
              "      <td>116.500000</td>\n",
              "    </tr>\n",
              "    <tr>\n",
              "      <th>50%</th>\n",
              "      <td>1950.000000</td>\n",
              "      <td>87.000000</td>\n",
              "      <td>2037.000000</td>\n",
              "      <td>10388.000000</td>\n",
              "      <td>130.000000</td>\n",
              "    </tr>\n",
              "    <tr>\n",
              "      <th>75%</th>\n",
              "      <td>1961.000000</td>\n",
              "      <td>90.000000</td>\n",
              "      <td>2051.000000</td>\n",
              "      <td>10488.000000</td>\n",
              "      <td>136.500000</td>\n",
              "    </tr>\n",
              "    <tr>\n",
              "      <th>max</th>\n",
              "      <td>2141.000000</td>\n",
              "      <td>110.000000</td>\n",
              "      <td>2251.000000</td>\n",
              "      <td>10776.000000</td>\n",
              "      <td>149.000000</td>\n",
              "    </tr>\n",
              "  </tbody>\n",
              "</table>\n",
              "</div>"
            ],
            "text/plain": [
              "       Tarjetas Amarillas  Tarjetas Rojas  Total tarjetas  Faltas totales  \\\n",
              "count            7.000000        7.000000        7.000000        7.000000   \n",
              "mean          1928.000000       85.857143     2013.857143    10368.000000   \n",
              "std            132.102233       13.082158      143.541433      253.921248   \n",
              "min           1698.000000       71.000000     1773.000000    10061.000000   \n",
              "25%           1892.500000       76.500000     1967.000000    10187.500000   \n",
              "50%           1950.000000       87.000000     2037.000000    10388.000000   \n",
              "75%           1961.000000       90.000000     2051.000000    10488.000000   \n",
              "max           2141.000000      110.000000     2251.000000    10776.000000   \n",
              "\n",
              "       Penaltis totales  \n",
              "count          7.000000  \n",
              "mean         126.000000  \n",
              "std           17.568912  \n",
              "min           97.000000  \n",
              "25%          116.500000  \n",
              "50%          130.000000  \n",
              "75%          136.500000  \n",
              "max          149.000000  "
            ]
          },
          "execution_count": 21,
          "metadata": {},
          "output_type": "execute_result"
        }
      ],
      "source": [
        "df_total.describe()"
      ]
    },
    {
      "cell_type": "code",
      "execution_count": 30,
      "metadata": {},
      "outputs": [
        {
          "data": {
            "image/png": "[encoded data removed]",
            "text/plain": [
              "<Figure size 1200x600 with 2 Axes>"
            ]
          },
          "metadata": {},
          "output_type": "display_data"
        }
      ],
      "source": [
        "# CREAMOS DOS TABLAS PARA REPRESENTAR LAS FALTAS Y PENALTIS TOTALES\n",
        "\n",
        "df_total1 = df_total.reset_index().rename(columns={'index': 'Temporada'})\n",
        "df_total1\n",
        "\n",
        "fig, (ax1, ax2) = plt.subplots(1, 2, figsize=(12, 6))\n",
        "\n",
        "# Graficar faltas totales en el primer subplot\n",
        "ax1.plot(df_total1['Temporada'], df_total1['Faltas totales'], color='blue')\n",
        "ax1.set_title('Faltas totales')\n",
        "ax1.set_ylim(bottom=0) # Establecer límite inferior del eje y en 0\n",
        "\n",
        "# Graficar penaltis totales en el segundo subplot\n",
        "ax2.plot(df_total1['Temporada'], df_total1['Penaltis totales'], color='red')\n",
        "ax2.set_title('Penaltis totales')\n",
        "ax2.set_ylim(bottom=0) # Establecer límite inferior del eje y en 0\n",
        "\n",
        "# Ajustar las etiquetas del eje x para que no se superpongan\n",
        "fig.autofmt_xdate(rotation=45)\n",
        "\n",
        "# Mostrar la figura\n",
        "plt.show()"
      ]
    },
    {
      "cell_type": "code",
      "execution_count": 48,
      "metadata": {},
      "outputs": [
        {
          "data": {
            "application/vnd.plotly.v1+json": {
              "config": {
                "plotlyServerURL": "https://plot.ly"
              },
              "data": [
                {
                  "hovertemplate": "Temporada=%{x}<br>Faltas totales=%{y}<extra></extra>",
                  "legendgroup": "",
                  "line": {
                    "color": "#636efa",
                    "dash": "solid"
                  },
                  "marker": {
                    "symbol": "circle"
                  },
                  "mode": "lines",
                  "name": "",
                  "orientation": "v",
                  "showlegend": false,
                  "type": "scatter",
                  "x": [
                    "15/16",
                    "16/17",
                    "17/18",
                    "18/19",
                    "19/20",
                    "20/21",
                    "21/22"
                  ],
                  "xaxis": "x",
                  "y": [
                    10388,
                    10776,
                    10531,
                    10306,
                    10445,
                    10069,
                    10061
                  ],
                  "yaxis": "y"
                },
                {
                  "hovertemplate": "Temporada=%{x}<br>Penaltis totales=%{y}<extra></extra>",
                  "legendgroup": "",
                  "line": {
                    "color": "#636efa",
                    "dash": "solid"
                  },
                  "marker": {
                    "symbol": "circle"
                  },
                  "mode": "lines",
                  "name": "",
                  "orientation": "v",
                  "showlegend": false,
                  "type": "scatter",
                  "x": [
                    "15/16",
                    "16/17",
                    "17/18",
                    "18/19",
                    "19/20",
                    "20/21",
                    "21/22"
                  ],
                  "xaxis": "x2",
                  "y": [
                    97,
                    120,
                    113,
                    130,
                    149,
                    141,
                    132
                  ],
                  "yaxis": "y2"
                }
              ],
              "layout": {
                "annotations": [
                  {
                    "font": {
                      "size": 16
                    },
                    "showarrow": false,
                    "text": "Faltas Totales",
                    "x": 0.225,
                    "xanchor": "center",
                    "xref": "paper",
                    "y": 1,
                    "yanchor": "bottom",
                    "yref": "paper"
                  },
                  {
                    "font": {
                      "size": 16
                    },
                    "showarrow": false,
                    "text": "Penaltis Totales",
                    "x": 0.775,
                    "xanchor": "center",
                    "xref": "paper",
                    "y": 1,
                    "yanchor": "bottom",
                    "yref": "paper"
                  }
                ],
                "height": 400,
                "shapes": [
                  {
                    "line": {
                      "color": "red"
                    },
                    "type": "line",
                    "x0": "17/18",
                    "x1": "17/18",
                    "xref": "x",
                    "y0": 0,
                    "y1": 1,
                    "yref": "y domain"
                  },
                  {
                    "line": {
                      "color": "red"
                    },
                    "type": "line",
                    "x0": "17/18",
                    "x1": "17/18",
                    "xref": "x2",
                    "y0": 0,
                    "y1": 1,
                    "yref": "y2 domain"
                  }
                ],
                "template": {
                  "data": {
                    "bar": [
                      {
                        "error_x": {
                          "color": "#2a3f5f"
                        },
                        "error_y": {
                          "color": "#2a3f5f"
                        },
                        "marker": {
                          "line": {
                            "color": "#E5ECF6",
                            "width": 0.5
                          },
                          "pattern": {
                            "fillmode": "overlay",
                            "size": 10,
                            "solidity": 0.2
                          }
                        },
                        "type": "bar"
                      }
                    ],
                    "barpolar": [
                      {
                        "marker": {
                          "line": {
                            "color": "#E5ECF6",
                            "width": 0.5
                          },
                          "pattern": {
                            "fillmode": "overlay",
                            "size": 10,
                            "solidity": 0.2
                          }
                        },
                        "type": "barpolar"
                      }
                    ],
                    "carpet": [
                      {
                        "aaxis": {
                          "endlinecolor": "#2a3f5f",
                          "gridcolor": "white",
                          "linecolor": "white",
                          "minorgridcolor": "white",
                          "startlinecolor": "#2a3f5f"
                        },
                        "baxis": {
                          "endlinecolor": "#2a3f5f",
                          "gridcolor": "white",
                          "linecolor": "white",
                          "minorgridcolor": "white",
                          "startlinecolor": "#2a3f5f"
                        },
                        "type": "carpet"
                      }
                    ],
                    "choropleth": [
                      {
                        "colorbar": {
                          "outlinewidth": 0,
                          "ticks": ""
                        },
                        "type": "choropleth"
                      }
                    ],
                    "contour": [
                      {
                        "colorbar": {
                          "outlinewidth": 0,
                          "ticks": ""
                        },
                        "colorscale": [
                          [
                            0,
                            "#0d0887"
                          ],
                          [
                            0.1111111111111111,
                            "#46039f"
                          ],
                          [
                            0.2222222222222222,
                            "#7201a8"
                          ],
                          [
                            0.3333333333333333,
                            "#9c179e"
                          ],
                          [
                            0.4444444444444444,
                            "#bd3786"
                          ],
                          [
                            0.5555555555555556,
                            "#d8576b"
                          ],
                          [
                            0.6666666666666666,
                            "#ed7953"
                          ],
                          [
                            0.7777777777777778,
                            "#fb9f3a"
                          ],
                          [
                            0.8888888888888888,
                            "#fdca26"
                          ],
                          [
                            1,
                            "#f0f921"
                          ]
                        ],
                        "type": "contour"
                      }
                    ],
                    "contourcarpet": [
                      {
                        "colorbar": {
                          "outlinewidth": 0,
                          "ticks": ""
                        },
                        "type": "contourcarpet"
                      }
                    ],
                    "heatmap": [
                      {
                        "colorbar": {
                          "outlinewidth": 0,
                          "ticks": ""
                        },
                        "colorscale": [
                          [
                            0,
                            "#0d0887"
                          ],
                          [
                            0.1111111111111111,
                            "#46039f"
                          ],
                          [
                            0.2222222222222222,
                            "#7201a8"
                          ],
                          [
                            0.3333333333333333,
                            "#9c179e"
                          ],
                          [
                            0.4444444444444444,
                            "#bd3786"
                          ],
                          [
                            0.5555555555555556,
                            "#d8576b"
                          ],
                          [
                            0.6666666666666666,
                            "#ed7953"
                          ],
                          [
                            0.7777777777777778,
                            "#fb9f3a"
                          ],
                          [
                            0.8888888888888888,
                            "#fdca26"
                          ],
                          [
                            1,
                            "#f0f921"
                          ]
                        ],
                        "type": "heatmap"
                      }
                    ],
                    "heatmapgl": [
                      {
                        "colorbar": {
                          "outlinewidth": 0,
                          "ticks": ""
                        },
                        "colorscale": [
                          [
                            0,
                            "#0d0887"
                          ],
                          [
                            0.1111111111111111,
                            "#46039f"
                          ],
                          [
                            0.2222222222222222,
                            "#7201a8"
                          ],
                          [
                            0.3333333333333333,
                            "#9c179e"
                          ],
                          [
                            0.4444444444444444,
                            "#bd3786"
                          ],
                          [
                            0.5555555555555556,
                            "#d8576b"
                          ],
                          [
                            0.6666666666666666,
                            "#ed7953"
                          ],
                          [
                            0.7777777777777778,
                            "#fb9f3a"
                          ],
                          [
                            0.8888888888888888,
                            "#fdca26"
                          ],
                          [
                            1,
                            "#f0f921"
                          ]
                        ],
                        "type": "heatmapgl"
                      }
                    ],
                    "histogram": [
                      {
                        "marker": {
                          "pattern": {
                            "fillmode": "overlay",
                            "size": 10,
                            "solidity": 0.2
                          }
                        },
                        "type": "histogram"
                      }
                    ],
                    "histogram2d": [
                      {
                        "colorbar": {
                          "outlinewidth": 0,
                          "ticks": ""
                        },
                        "colorscale": [
                          [
                            0,
                            "#0d0887"
                          ],
                          [
                            0.1111111111111111,
                            "#46039f"
                          ],
                          [
                            0.2222222222222222,
                            "#7201a8"
                          ],
                          [
                            0.3333333333333333,
                            "#9c179e"
                          ],
                          [
                            0.4444444444444444,
                            "#bd3786"
                          ],
                          [
                            0.5555555555555556,
                            "#d8576b"
                          ],
                          [
                            0.6666666666666666,
                            "#ed7953"
                          ],
                          [
                            0.7777777777777778,
                            "#fb9f3a"
                          ],
                          [
                            0.8888888888888888,
                            "#fdca26"
                          ],
                          [
                            1,
                            "#f0f921"
                          ]
                        ],
                        "type": "histogram2d"
                      }
                    ],
                    "histogram2dcontour": [
                      {
                        "colorbar": {
                          "outlinewidth": 0,
                          "ticks": ""
                        },
                        "colorscale": [
                          [
                            0,
                            "#0d0887"
                          ],
                          [
                            0.1111111111111111,
                            "#46039f"
                          ],
                          [
                            0.2222222222222222,
                            "#7201a8"
                          ],
                          [
                            0.3333333333333333,
                            "#9c179e"
                          ],
                          [
                            0.4444444444444444,
                            "#bd3786"
                          ],
                          [
                            0.5555555555555556,
                            "#d8576b"
                          ],
                          [
                            0.6666666666666666,
                            "#ed7953"
                          ],
                          [
                            0.7777777777777778,
                            "#fb9f3a"
                          ],
                          [
                            0.8888888888888888,
                            "#fdca26"
                          ],
                          [
                            1,
                            "#f0f921"
                          ]
                        ],
                        "type": "histogram2dcontour"
                      }
                    ],
                    "mesh3d": [
                      {
                        "colorbar": {
                          "outlinewidth": 0,
                          "ticks": ""
                        },
                        "type": "mesh3d"
                      }
                    ],
                    "parcoords": [
                      {
                        "line": {
                          "colorbar": {
                            "outlinewidth": 0,
                            "ticks": ""
                          }
                        },
                        "type": "parcoords"
                      }
                    ],
                    "pie": [
                      {
                        "automargin": true,
                        "type": "pie"
                      }
                    ],
                    "scatter": [
                      {
                        "fillpattern": {
                          "fillmode": "overlay",
                          "size": 10,
                          "solidity": 0.2
                        },
                        "type": "scatter"
                      }
                    ],
                    "scatter3d": [
                      {
                        "line": {
                          "colorbar": {
                            "outlinewidth": 0,
                            "ticks": ""
                          }
                        },
                        "marker": {
                          "colorbar": {
                            "outlinewidth": 0,
                            "ticks": ""
                          }
                        },
                        "type": "scatter3d"
                      }
                    ],
                    "scattercarpet": [
                      {
                        "marker": {
                          "colorbar": {
                            "outlinewidth": 0,
                            "ticks": ""
                          }
                        },
                        "type": "scattercarpet"
                      }
                    ],
                    "scattergeo": [
                      {
                        "marker": {
                          "colorbar": {
                            "outlinewidth": 0,
                            "ticks": ""
                          }
                        },
                        "type": "scattergeo"
                      }
                    ],
                    "scattergl": [
                      {
                        "marker": {
                          "colorbar": {
                            "outlinewidth": 0,
                            "ticks": ""
                          }
                        },
                        "type": "scattergl"
                      }
                    ],
                    "scattermapbox": [
                      {
                        "marker": {
                          "colorbar": {
                            "outlinewidth": 0,
                            "ticks": ""
                          }
                        },
                        "type": "scattermapbox"
                      }
                    ],
                    "scatterpolar": [
                      {
                        "marker": {
                          "colorbar": {
                            "outlinewidth": 0,
                            "ticks": ""
                          }
                        },
                        "type": "scatterpolar"
                      }
                    ],
                    "scatterpolargl": [
                      {
                        "marker": {
                          "colorbar": {
                            "outlinewidth": 0,
                            "ticks": ""
                          }
                        },
                        "type": "scatterpolargl"
                      }
                    ],
                    "scatterternary": [
                      {
                        "marker": {
                          "colorbar": {
                            "outlinewidth": 0,
                            "ticks": ""
                          }
                        },
                        "type": "scatterternary"
                      }
                    ],
                    "surface": [
                      {
                        "colorbar": {
                          "outlinewidth": 0,
                          "ticks": ""
                        },
                        "colorscale": [
                          [
                            0,
                            "#0d0887"
                          ],
                          [
                            0.1111111111111111,
                            "#46039f"
                          ],
                          [
                            0.2222222222222222,
                            "#7201a8"
                          ],
                          [
                            0.3333333333333333,
                            "#9c179e"
                          ],
                          [
                            0.4444444444444444,
                            "#bd3786"
                          ],
                          [
                            0.5555555555555556,
                            "#d8576b"
                          ],
                          [
                            0.6666666666666666,
                            "#ed7953"
                          ],
                          [
                            0.7777777777777778,
                            "#fb9f3a"
                          ],
                          [
                            0.8888888888888888,
                            "#fdca26"
                          ],
                          [
                            1,
                            "#f0f921"
                          ]
                        ],
                        "type": "surface"
                      }
                    ],
                    "table": [
                      {
                        "cells": {
                          "fill": {
                            "color": "#EBF0F8"
                          },
                          "line": {
                            "color": "white"
                          }
                        },
                        "header": {
                          "fill": {
                            "color": "#C8D4E3"
                          },
                          "line": {
                            "color": "white"
                          }
                        },
                        "type": "table"
                      }
                    ]
                  },
                  "layout": {
                    "annotationdefaults": {
                      "arrowcolor": "#2a3f5f",
                      "arrowhead": 0,
                      "arrowwidth": 1
                    },
                    "autotypenumbers": "strict",
                    "coloraxis": {
                      "colorbar": {
                        "outlinewidth": 0,
                        "ticks": ""
                      }
                    },
                    "colorscale": {
                      "diverging": [
                        [
                          0,
                          "#8e0152"
                        ],
                        [
                          0.1,
                          "#c51b7d"
                        ],
                        [
                          0.2,
                          "#de77ae"
                        ],
                        [
                          0.3,
                          "#f1b6da"
                        ],
                        [
                          0.4,
                          "#fde0ef"
                        ],
                        [
                          0.5,
                          "#f7f7f7"
                        ],
                        [
                          0.6,
                          "#e6f5d0"
                        ],
                        [
                          0.7,
                          "#b8e186"
                        ],
                        [
                          0.8,
                          "#7fbc41"
                        ],
                        [
                          0.9,
                          "#4d9221"
                        ],
                        [
                          1,
                          "#276419"
                        ]
                      ],
                      "sequential": [
                        [
                          0,
                          "#0d0887"
                        ],
                        [
                          0.1111111111111111,
                          "#46039f"
                        ],
                        [
                          0.2222222222222222,
                          "#7201a8"
                        ],
                        [
                          0.3333333333333333,
                          "#9c179e"
                        ],
                        [
                          0.4444444444444444,
                          "#bd3786"
                        ],
                        [
                          0.5555555555555556,
                          "#d8576b"
                        ],
                        [
                          0.6666666666666666,
                          "#ed7953"
                        ],
                        [
                          0.7777777777777778,
                          "#fb9f3a"
                        ],
                        [
                          0.8888888888888888,
                          "#fdca26"
                        ],
                        [
                          1,
                          "#f0f921"
                        ]
                      ],
                      "sequentialminus": [
                        [
                          0,
                          "#0d0887"
                        ],
                        [
                          0.1111111111111111,
                          "#46039f"
                        ],
                        [
                          0.2222222222222222,
                          "#7201a8"
                        ],
                        [
                          0.3333333333333333,
                          "#9c179e"
                        ],
                        [
                          0.4444444444444444,
                          "#bd3786"
                        ],
                        [
                          0.5555555555555556,
                          "#d8576b"
                        ],
                        [
                          0.6666666666666666,
                          "#ed7953"
                        ],
                        [
                          0.7777777777777778,
                          "#fb9f3a"
                        ],
                        [
                          0.8888888888888888,
                          "#fdca26"
                        ],
                        [
                          1,
                          "#f0f921"
                        ]
                      ]
                    },
                    "colorway": [
                      "#636efa",
                      "#EF553B",
                      "#00cc96",
                      "#ab63fa",
                      "#FFA15A",
                      "#19d3f3",
                      "#FF6692",
                      "#B6E880",
                      "#FF97FF",
                      "#FECB52"
                    ],
                    "font": {
                      "color": "#2a3f5f"
                    },
                    "geo": {
                      "bgcolor": "white",
                      "lakecolor": "white",
                      "landcolor": "#E5ECF6",
                      "showlakes": true,
                      "showland": true,
                      "subunitcolor": "white"
                    },
                    "hoverlabel": {
                      "align": "left"
                    },
                    "hovermode": "closest",
                    "mapbox": {
                      "style": "light"
                    },
                    "paper_bgcolor": "white",
                    "plot_bgcolor": "#E5ECF6",
                    "polar": {
                      "angularaxis": {
                        "gridcolor": "white",
                        "linecolor": "white",
                        "ticks": ""
                      },
                      "bgcolor": "#E5ECF6",
                      "radialaxis": {
                        "gridcolor": "white",
                        "linecolor": "white",
                        "ticks": ""
                      }
                    },
                    "scene": {
                      "xaxis": {
                        "backgroundcolor": "#E5ECF6",
                        "gridcolor": "white",
                        "gridwidth": 2,
                        "linecolor": "white",
                        "showbackground": true,
                        "ticks": "",
                        "zerolinecolor": "white"
                      },
                      "yaxis": {
                        "backgroundcolor": "#E5ECF6",
                        "gridcolor": "white",
                        "gridwidth": 2,
                        "linecolor": "white",
                        "showbackground": true,
                        "ticks": "",
                        "zerolinecolor": "white"
                      },
                      "zaxis": {
                        "backgroundcolor": "#E5ECF6",
                        "gridcolor": "white",
                        "gridwidth": 2,
                        "linecolor": "white",
                        "showbackground": true,
                        "ticks": "",
                        "zerolinecolor": "white"
                      }
                    },
                    "shapedefaults": {
                      "line": {
                        "color": "#2a3f5f"
                      }
                    },
                    "ternary": {
                      "aaxis": {
                        "gridcolor": "white",
                        "linecolor": "white",
                        "ticks": ""
                      },
                      "baxis": {
                        "gridcolor": "white",
                        "linecolor": "white",
                        "ticks": ""
                      },
                      "bgcolor": "#E5ECF6",
                      "caxis": {
                        "gridcolor": "white",
                        "linecolor": "white",
                        "ticks": ""
                      }
                    },
                    "title": {
                      "x": 0.05
                    },
                    "xaxis": {
                      "automargin": true,
                      "gridcolor": "white",
                      "linecolor": "white",
                      "ticks": "",
                      "title": {
                        "standoff": 15
                      },
                      "zerolinecolor": "white",
                      "zerolinewidth": 2
                    },
                    "yaxis": {
                      "automargin": true,
                      "gridcolor": "white",
                      "linecolor": "white",
                      "ticks": "",
                      "title": {
                        "standoff": 15
                      },
                      "zerolinecolor": "white",
                      "zerolinewidth": 2
                    }
                  }
                },
                "title": {
                  "text": "Comparación de Faltas y Penaltis Totales"
                },
                "width": 800,
                "xaxis": {
                  "anchor": "y",
                  "domain": [
                    0,
                    0.45
                  ],
                  "title": {
                    "text": "Temporadas"
                  }
                },
                "xaxis2": {
                  "anchor": "y2",
                  "domain": [
                    0.55,
                    1
                  ],
                  "title": {
                    "text": "Temporadas"
                  }
                },
                "yaxis": {
                  "anchor": "x",
                  "domain": [
                    0,
                    1
                  ]
                },
                "yaxis2": {
                  "anchor": "x2",
                  "domain": [
                    0,
                    1
                  ]
                }
              }
            }
          },
          "metadata": {},
          "output_type": "display_data"
        }
      ],
      "source": [
        "# CREAMOS DOS TABLAS PARA REPRESENTAR LAS FALTAS Y PENALTIS TOTALES\n",
        "\n",
        "from plotly.subplots import make_subplots\n",
        "fig = make_subplots(rows=1, cols=2, subplot_titles=(\"Faltas Totales\", \"Penaltis Totales\"))\n",
        "\n",
        "# Primer gráfico de faltas totales\n",
        "figura1 = px.line(df_total1, x=\"Temporada\", y=\"Faltas totales\")\n",
        "figura1.update_yaxes(range=[0, None]) # establecer límite inferior en 0\n",
        "figura1.update_layout(xaxis_title=\"Temporada\")\n",
        "fig.add_trace(figura1['data'][0], row=1, col=1)\n",
        "\n",
        "# Segundo gráfico de penaltis totales\n",
        "figura2 = px.line(df_total1, x=\"Temporada\", y=\"Penaltis totales\")\n",
        "figura2.update_yaxes(range=[0, None]) # establecer límite inferior en 0\n",
        "figura2.update_layout(xaxis_title=\"Temporada\")\n",
        "fig.add_trace(figura2['data'][0], row=1, col=2)\n",
        "\n",
        "fig.update_xaxes(title_text=\"Temporadas\", row=1, col=1)\n",
        "fig.update_xaxes(title_text=\"Temporadas\", row=1, col=2)\n",
        "\n",
        "# Agregar línea vertical y punto en la posición deseada\n",
        "fig.add_vline(x=\"17/18\", line_color=\"red\", row=1, col=1)\n",
        "fig.add_vline(x=\"17/18\", line_color=\"red\", row=1, col=2)\n",
        "\n",
        "\n",
        "\n",
        "# Actualizar diseño de la figura y mostrarla\n",
        "fig.update_layout(height=400, width=800, title_text=\"Comparación de Faltas y Penaltis Totales\")\n",
        "fig.update()\n",
        "fig.show()"
      ]
    },
    {
      "cell_type": "code",
      "execution_count": 51,
      "metadata": {},
      "outputs": [
        {
          "data": {
            "image/png": "[encoded data removed]",
            "text/plain": [
              "<Figure size 640x480 with 2 Axes>"
            ]
          },
          "metadata": {},
          "output_type": "display_data"
        }
      ],
      "source": [
        "# SACAMOS LA MATRIZ DE CORRELACION DEL PRIMER DATAFRAME\n",
        "\n",
        "matriz_correlacion = df_total.corr()\n",
        "\n",
        "sns.heatmap(matriz_correlacion, annot=True, cmap='coolwarm')\n",
        "\n",
        "# personalizar el gráfico\n",
        "plt.title('Mapa de calor de la matriz de correlación')\n",
        "plt.show()"
      ]
    },
    {
      "cell_type": "code",
      "execution_count": 35,
      "metadata": {},
      "outputs": [
        {
          "data": {
            "text/html": [
              "<div>\n",
              "<style scoped>\n",
              "    .dataframe tbody tr th:only-of-type {\n",
              "        vertical-align: middle;\n",
              "    }\n",
              "\n",
              "    .dataframe tbody tr th {\n",
              "        vertical-align: top;\n",
              "    }\n",
              "\n",
              "    .dataframe thead th {\n",
              "        text-align: right;\n",
              "    }\n",
              "</style>\n",
              "<table border=\"1\" class=\"dataframe\">\n",
              "  <thead>\n",
              "    <tr style=\"text-align: right;\">\n",
              "      <th></th>\n",
              "      <th>TPint</th>\n",
              "      <th>TA</th>\n",
              "      <th>TR</th>\n",
              "    </tr>\n",
              "    <tr>\n",
              "      <th>Temporada</th>\n",
              "      <th></th>\n",
              "      <th></th>\n",
              "      <th></th>\n",
              "    </tr>\n",
              "  </thead>\n",
              "  <tbody>\n",
              "    <tr>\n",
              "      <th>15/16</th>\n",
              "      <td>19</td>\n",
              "      <td>67</td>\n",
              "      <td>1</td>\n",
              "    </tr>\n",
              "    <tr>\n",
              "      <th>16/17</th>\n",
              "      <td>9</td>\n",
              "      <td>74</td>\n",
              "      <td>1</td>\n",
              "    </tr>\n",
              "    <tr>\n",
              "      <th>17/18</th>\n",
              "      <td>5</td>\n",
              "      <td>67</td>\n",
              "      <td>2</td>\n",
              "    </tr>\n",
              "    <tr>\n",
              "      <th>18/19</th>\n",
              "      <td>9</td>\n",
              "      <td>76</td>\n",
              "      <td>2</td>\n",
              "    </tr>\n",
              "    <tr>\n",
              "      <th>19/20</th>\n",
              "      <td>6</td>\n",
              "      <td>92</td>\n",
              "      <td>6</td>\n",
              "    </tr>\n",
              "    <tr>\n",
              "      <th>20/21</th>\n",
              "      <td>8</td>\n",
              "      <td>72</td>\n",
              "      <td>2</td>\n",
              "    </tr>\n",
              "    <tr>\n",
              "      <th>21/22</th>\n",
              "      <td>7</td>\n",
              "      <td>97</td>\n",
              "      <td>5</td>\n",
              "    </tr>\n",
              "  </tbody>\n",
              "</table>\n",
              "</div>"
            ],
            "text/plain": [
              "           TPint  TA  TR\n",
              "Temporada               \n",
              "15/16         19  67   1\n",
              "16/17          9  74   1\n",
              "17/18          5  67   2\n",
              "18/19          9  76   2\n",
              "19/20          6  92   6\n",
              "20/21          8  72   2\n",
              "21/22          7  97   5"
            ]
          },
          "execution_count": 35,
          "metadata": {},
          "output_type": "execute_result"
        }
      ],
      "source": [
        "# CREAMOS UN DATAFRAME CON LOS DATOS SOLO DE PENALTIS, TARJETAS AMARILLAS Y TARJETAS ROJAS DEL BARCELONA, PERO NO VEMOS MUCHA RELACION\n",
        "\n",
        "generico = pd.concat([var15_16, var16_17, var17_18, var18_19, var19_20, var20_21, var21_22], axis=0)\n",
        "df_barcelona = generico.loc[generico['Equipo'] == \"Barcelona\"]\n",
        "df_barcelona = df_barcelona.loc[:, ['TPint', 'TA', 'TR']]\n",
        "df_barcelona\n",
        "\n",
        "nombres_filas = ['15/16', '16/17', '17/18', '18/19', '19/20', '20/21', '21/22']\n",
        "df_barcelona = df_barcelona.set_index(pd.Index(nombres_filas))\n",
        "df_barcelona.index.name = 'Temporada'\n",
        "df_barcelona"
      ]
    },
    {
      "cell_type": "code",
      "execution_count": 37,
      "metadata": {},
      "outputs": [
        {
          "data": {
            "text/html": [
              "<div>\n",
              "<style scoped>\n",
              "    .dataframe tbody tr th:only-of-type {\n",
              "        vertical-align: middle;\n",
              "    }\n",
              "\n",
              "    .dataframe tbody tr th {\n",
              "        vertical-align: top;\n",
              "    }\n",
              "\n",
              "    .dataframe thead th {\n",
              "        text-align: right;\n",
              "    }\n",
              "</style>\n",
              "<table border=\"1\" class=\"dataframe\">\n",
              "  <thead>\n",
              "    <tr style=\"text-align: right;\">\n",
              "      <th></th>\n",
              "      <th>TPint</th>\n",
              "      <th>TA</th>\n",
              "      <th>TR</th>\n",
              "    </tr>\n",
              "    <tr>\n",
              "      <th>Temporada</th>\n",
              "      <th></th>\n",
              "      <th></th>\n",
              "      <th></th>\n",
              "    </tr>\n",
              "  </thead>\n",
              "  <tbody>\n",
              "    <tr>\n",
              "      <th>15/16</th>\n",
              "      <td>9</td>\n",
              "      <td>75</td>\n",
              "      <td>5</td>\n",
              "    </tr>\n",
              "    <tr>\n",
              "      <th>16/17</th>\n",
              "      <td>8</td>\n",
              "      <td>76</td>\n",
              "      <td>2</td>\n",
              "    </tr>\n",
              "    <tr>\n",
              "      <th>17/18</th>\n",
              "      <td>10</td>\n",
              "      <td>65</td>\n",
              "      <td>4</td>\n",
              "    </tr>\n",
              "    <tr>\n",
              "      <th>18/19</th>\n",
              "      <td>9</td>\n",
              "      <td>79</td>\n",
              "      <td>6</td>\n",
              "    </tr>\n",
              "    <tr>\n",
              "      <th>19/20</th>\n",
              "      <td>11</td>\n",
              "      <td>82</td>\n",
              "      <td>4</td>\n",
              "    </tr>\n",
              "    <tr>\n",
              "      <th>20/21</th>\n",
              "      <td>3</td>\n",
              "      <td>59</td>\n",
              "      <td>2</td>\n",
              "    </tr>\n",
              "    <tr>\n",
              "      <th>21/22</th>\n",
              "      <td>12</td>\n",
              "      <td>76</td>\n",
              "      <td>0</td>\n",
              "    </tr>\n",
              "  </tbody>\n",
              "</table>\n",
              "</div>"
            ],
            "text/plain": [
              "           TPint  TA  TR\n",
              "Temporada               \n",
              "15/16          9  75   5\n",
              "16/17          8  76   2\n",
              "17/18         10  65   4\n",
              "18/19          9  79   6\n",
              "19/20         11  82   4\n",
              "20/21          3  59   2\n",
              "21/22         12  76   0"
            ]
          },
          "execution_count": 37,
          "metadata": {},
          "output_type": "execute_result"
        }
      ],
      "source": [
        "# CREAMOS UN DATAFRAME CON LOS DATOS SOLO DE PENALTIS, TARJETAS AMARILLAS Y TARJETAS ROJAS DEL REAL MADRID, PERO NO VEMOS MUCHA RELACION\n",
        "\n",
        "df_madrid = generico.loc[generico['Equipo'] == \"Real Madrid\"]\n",
        "df_madrid = df_madrid.loc[:, ['TPint', 'TA', 'TR']]\n",
        "\n",
        "nombres_filas = ['15/16', '16/17', '17/18', '18/19', '19/20', '20/21', '21/22']\n",
        "df_madrid = df_madrid.set_index(pd.Index(nombres_filas))\n",
        "df_madrid.index.name = 'Temporada'\n",
        "df_madrid"
      ]
    },
    {
      "cell_type": "code",
      "execution_count": 2,
      "metadata": {},
      "outputs": [
        {
          "data": {
            "image/png": "[encoded data removed]",
            "text/plain": [
              "<Figure size 640x480 with 1 Axes>"
            ]
          },
          "metadata": {},
          "output_type": "display_data"
        }
      ],
      "source": [
        "# CREAMOS UN DATAFRAME Y UN SCATTER PLOT DE COMPARACION DE DURACION DEL PARTIDO VS TIEMPO EFECTIVO DE JUEGO\n",
        "\n",
        "df_comparacion = pd.read_excel('tiempo juego comparado.csv')\n",
        "\n",
        "# Crear un gráfico de dispersión con Seaborn\n",
        "sns.scatterplot(data=df_comparacion, x='Tiempo total partido', y='Tiempo efectivo juego', hue='Temporada')\n",
        "\n",
        "# Configurar el título y los ejes\n",
        "plt.title('Duración vs. Tiempo efectivo de juego')\n",
        "plt.xlabel('Duración del partido (minutos)')\n",
        "plt.ylabel('Tiempo efectivo de juego (minutos)')\n",
        "\n",
        "# Mostrar el gráfico\n",
        "plt.show()"
      ]
    },
    {
      "cell_type": "code",
      "execution_count": 3,
      "metadata": {},
      "outputs": [
        {
          "name": "stderr",
          "output_type": "stream",
          "text": [
            "C:\\Users\\ismme\\AppData\\Local\\Temp\\ipykernel_3820\\2768429205.py:1: FutureWarning: The default value of numeric_only in DataFrame.corr is deprecated. In a future version, it will default to False. Select only valid columns or specify the value of numeric_only to silence this warning.\n",
            "  matriz_correlacion = df_comparacion.corr()\n"
          ]
        },
        {
          "data": {
            "image/png": "[encoded data removed]",
            "text/plain": [
              "<Figure size 640x480 with 2 Axes>"
            ]
          },
          "metadata": {},
          "output_type": "display_data"
        }
      ],
      "source": [
        "# CREAMOS LA MATRIZ DE CORRELACION\n",
        "\n",
        "matriz_correlacion = df_comparacion.corr()\n",
        "\n",
        "sns.heatmap(matriz_correlacion, annot=True, cmap='coolwarm')\n",
        "\n",
        "# personalizar el gráfico\n",
        "plt.title('Mapa de calor de la matriz de correlación')\n",
        "plt.show()"
      ]
    },
    {
      "cell_type": "code",
      "execution_count": 8,
      "metadata": {},
      "outputs": [
        {
          "data": {
            "image/png": "[encoded data removed]",
            "text/plain": [
              "<Figure size 640x480 with 1 Axes>"
            ]
          },
          "metadata": {},
          "output_type": "display_data"
        }
      ],
      "source": [
        "# CREAMOS UN LINE CHART DEL TOTAL DE TIEMPO DE DESCUENTO MEDIO\n",
        "\n",
        "df_comparacion = df_comparacion.set_index('Temporada')\n",
        "\n",
        "plt.plot(df_comparacion.index, df_comparacion['Tiempo descuento medio'])\n",
        "for index, row in df_comparacion.iterrows():\n",
        "    x = index\n",
        "    y = df_comparacion.loc[index, 'Tiempo descuento medio']\n",
        "    plt.plot(x, y, 'o', color='red', alpha=0.5)\n",
        "# personalizar el gráfico\n",
        "plt.axvline(x=2.5, color='red')\n",
        "plt.xlabel('Temporadas')\n",
        "plt.ylabel('Tiempo descuento medio')\n",
        "plt.title('Total tiempo descuento medio')\n",
        "plt.show()"
      ]
    },
    {
      "cell_type": "code",
      "execution_count": 23,
      "metadata": {},
      "outputs": [
        {
          "name": "stdout",
          "output_type": "stream",
          "text": [
            "1011\n",
            "1095\n",
            "994\n",
            "955\n",
            "922\n",
            "923\n",
            "927\n"
          ]
        }
      ],
      "source": [
        "# CALCULAMOS LOS GOLES DE CADA TEMPORADA\n",
        "\n",
        "df_goles15_16 = var15_16['Gls.'].sum()\n",
        "print(df_goles15_16)\n",
        "df_goles16_17 = var16_17['Gls.'].sum()\n",
        "print(df_goles16_17)\n",
        "df_goles17_18 = var17_18['Gls.'].sum()\n",
        "print(df_goles17_18)\n",
        "df_goles18_19 = var18_19['Gls.'].sum()\n",
        "print(df_goles18_19)\n",
        "df_goles19_20 = var19_20['Gls.'].sum()\n",
        "print(df_goles19_20)\n",
        "df_goles20_21 = var20_21['Gls.'].sum()\n",
        "print(df_goles20_21)\n",
        "df_goles21_22 = var21_22['Gls.'].sum()\n",
        "print(df_goles21_22)"
      ]
    },
    {
      "cell_type": "code",
      "execution_count": 24,
      "metadata": {},
      "outputs": [
        {
          "data": {
            "text/html": [
              "<div>\n",
              "<style scoped>\n",
              "    .dataframe tbody tr th:only-of-type {\n",
              "        vertical-align: middle;\n",
              "    }\n",
              "\n",
              "    .dataframe tbody tr th {\n",
              "        vertical-align: top;\n",
              "    }\n",
              "\n",
              "    .dataframe thead th {\n",
              "        text-align: right;\n",
              "    }\n",
              "</style>\n",
              "<table border=\"1\" class=\"dataframe\">\n",
              "  <thead>\n",
              "    <tr style=\"text-align: right;\">\n",
              "      <th></th>\n",
              "      <th>Temporada</th>\n",
              "      <th>Total goles</th>\n",
              "    </tr>\n",
              "  </thead>\n",
              "  <tbody>\n",
              "    <tr>\n",
              "      <th>0</th>\n",
              "      <td>15/16</td>\n",
              "      <td>1011</td>\n",
              "    </tr>\n",
              "    <tr>\n",
              "      <th>1</th>\n",
              "      <td>16/17</td>\n",
              "      <td>1095</td>\n",
              "    </tr>\n",
              "    <tr>\n",
              "      <th>2</th>\n",
              "      <td>17/18</td>\n",
              "      <td>994</td>\n",
              "    </tr>\n",
              "    <tr>\n",
              "      <th>3</th>\n",
              "      <td>18/19</td>\n",
              "      <td>955</td>\n",
              "    </tr>\n",
              "    <tr>\n",
              "      <th>4</th>\n",
              "      <td>19/20</td>\n",
              "      <td>922</td>\n",
              "    </tr>\n",
              "    <tr>\n",
              "      <th>5</th>\n",
              "      <td>20/21</td>\n",
              "      <td>923</td>\n",
              "    </tr>\n",
              "    <tr>\n",
              "      <th>6</th>\n",
              "      <td>21/22</td>\n",
              "      <td>927</td>\n",
              "    </tr>\n",
              "  </tbody>\n",
              "</table>\n",
              "</div>"
            ],
            "text/plain": [
              "  Temporada  Total goles\n",
              "0     15/16         1011\n",
              "1     16/17         1095\n",
              "2     17/18          994\n",
              "3     18/19          955\n",
              "4     19/20          922\n",
              "5     20/21          923\n",
              "6     21/22          927"
            ]
          },
          "execution_count": 24,
          "metadata": {},
          "output_type": "execute_result"
        }
      ],
      "source": [
        "# CREAMOS UN DATAFRAME DE GOLES TOTALES\n",
        "\n",
        "datos_goles = {'Temporada': ['15/16', '16/17', '17/18', '18/19', '19/20', '20/21', '21/22'],\n",
        "               'Total goles': [df_goles15_16, df_goles16_17, df_goles17_18, df_goles18_19, df_goles19_20, df_goles20_21, df_goles21_22],\n",
        "               }\n",
        "df_goles = pd.DataFrame(datos_goles)\n",
        "df_goles"
      ]
    },
    {
      "cell_type": "code",
      "execution_count": 25,
      "metadata": {},
      "outputs": [
        {
          "data": {
            "image/png": "[encoded data removed]",
            "text/plain": [
              "<Figure size 640x480 with 1 Axes>"
            ]
          },
          "metadata": {},
          "output_type": "display_data"
        }
      ],
      "source": [
        "# CREAMOS UN LINE CHART DEL TOTAL DE GOLES POR TEMPORADA\n",
        "\n",
        "df_goles = df_goles.set_index('Temporada')\n",
        "\n",
        "plt.plot(df_goles.index, df_goles['Total goles'])\n",
        "for index, row in df_goles.iterrows():\n",
        "    x = index\n",
        "    y = df_goles.loc[index, 'Total goles']\n",
        "    plt.plot(x, y, 'o', color='red', alpha=0.5)\n",
        "# personalizar el gráfico\n",
        "plt.axvline(x=2.5, color='red')\n",
        "plt.xlabel('Temporada')\n",
        "plt.ylabel('Total goles')\n",
        "plt.title('Total goles por temporada')\n",
        "plt.show()"
      ]
    },
    {
      "cell_type": "code",
      "execution_count": 39,
      "metadata": {},
      "outputs": [
        {
          "data": {
            "image/png": "[encoded data removed]",
            "text/plain": [
              "<Figure size 640x480 with 1 Axes>"
            ]
          },
          "metadata": {},
          "output_type": "display_data"
        }
      ],
      "source": [
        "# CREAMOS UN HISTOGRAMA DEL TOTAL DE GOLES\n",
        "\n",
        "plt.bar(df_goles.index, df_goles['Total goles'])\n",
        "\n",
        "# personalizar el gráfico\n",
        "plt.axvline(x=2.5, color='red')\n",
        "plt.xlabel('Temporadas')\n",
        "plt.ylabel('Total goles')\n",
        "plt.title('Total goles')\n",
        "plt.show()"
      ]
    }
  ],
  "metadata": {
    "colab": {
      "name": "1-Definicion_EDA.ipynb",
      "provenance": []
    },
    "interpreter": {
      "hash": "7c77fdb427e7cbc9bc1367dd530fc2b36aacdbbde1ac83c85833b10dfa8b831c"
    },
    "kernelspec": {
      "display_name": "Python 3.7.4 64-bit",
      "language": "python",
      "name": "python3"
    },
    "language_info": {
      "codemirror_mode": {
        "name": "ipython",
        "version": 3
      },
      "file_extension": ".py",
      "mimetype": "text/x-python",
      "name": "python",
      "nbconvert_exporter": "python",
      "pygments_lexer": "ipython3",
      "version": "3.11.0"
    },
    "orig_nbformat": 4
  },
  "nbformat": 4,
  "nbformat_minor": 0
}
